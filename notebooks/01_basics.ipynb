{
 "cells": [
  {
   "cell_type": "markdown",
   "id": "0a6ae5b6-44f2-4dc9-bea3-22318be4a8d8",
   "metadata": {},
   "source": [
    "# Python Basics"
   ]
  },
  {
   "cell_type": "markdown",
   "id": "5211b20b-5bdd-430b-a982-7bba801d2377",
   "metadata": {},
   "source": [
    "## 1. Objekte\n",
    "\n",
    "Die grundlegendsten Komponenten einer Programmiersprache sind \"Dinge\", auch genannt Variablen oder Objekte.\n",
    "\n",
    "Die am öftesten auftretenden Datentypen in Python sind:\n",
    "- int (_integer_, ganzzahlige Zahl)\n",
    "- float (_floating point number_, Fließkommazahl)\n",
    "- bool (_boolean_, Wahr oder Falsch / 1 oder 0 Werte)\n",
    "- str (_string_, Zeichenkette)\n",
    "- list (_list_, Liste - Sammlung von Objekten)"
   ]
  },
  {
   "cell_type": "markdown",
   "id": "f90743ee-51a9-4eb3-9891-78c34960404a",
   "metadata": {},
   "source": [
    "**HINWEIS**: Mit `STRG+ENTER` kannst du eine Zelle ausführen\n",
    "\n",
    "**HINWEIS**: Mit `SHIFT+ENTER` kannst du eine Zelle ausführen und in die nächste gehen\n",
    "\n",
    "Alternativ einfach auf den Play Button in der oberen Leiste klicken"
   ]
  },
  {
   "cell_type": "code",
   "execution_count": null,
   "id": "c95cd896-7052-4925-ae03-3239274c8f3e",
   "metadata": {},
   "outputs": [],
   "source": [
    "# Ein Ding\n",
    "2"
   ]
  },
  {
   "cell_type": "code",
   "execution_count": null,
   "id": "276ce8d7-6197-4ab4-b65e-32eecda09a76",
   "metadata": {},
   "outputs": [],
   "source": [
    "# In einer Zelle wird nur das letzte Element ausgegeben.\n",
    "# Nutze print() um Sachen auszugeben\n",
    "\n",
    "print(2)\n",
    "print(5)\n",
    "print(\"Hallo\")"
   ]
  },
  {
   "cell_type": "code",
   "execution_count": null,
   "id": "b2f38dcc-08a1-48be-82be-858ac4b08535",
   "metadata": {},
   "outputs": [],
   "source": [
    "a = 2\n",
    "b = \"Hallo\"\n",
    "c = True\n",
    "d = 2.0\n",
    "e = [a,c,d]\n",
    "print(a,b,c,d,e)"
   ]
  },
  {
   "cell_type": "code",
   "execution_count": null,
   "id": "fba371a9-ea1c-4900-9025-f50910eabc19",
   "metadata": {},
   "outputs": [],
   "source": [
    "# Mit type() können wir den Datentypen herausfinden\n",
    "print(\"a:\", type(a))\n",
    "print(\"b:\", type(b))\n",
    "print(\"c:\", type(c))\n",
    "print(\"d:\", type(d))\n",
    "print(\"e:\", type(e))"
   ]
  },
  {
   "cell_type": "markdown",
   "id": "81160aa2-ffb7-4031-a9fc-ae89f7150012",
   "metadata": {},
   "source": [
    "Eine der Sachen die Python zu einer vergleichsweise \"einfach\" zu erlernenden Programmiersprache macht ist, dass man keine Datentypen spezifizieren muss.\n",
    "\n",
    "Beispiel:\n",
    "\n",
    "**Python**\n",
    "```python\n",
    "a = 2\n",
    "b = \"Hallo\"\n",
    "``` \n",
    "\n",
    "**Java**\n",
    "```java\n",
    "int a = 2;\n",
    "String b = \"Hallo\";\n",
    "```"
   ]
  },
  {
   "cell_type": "code",
   "execution_count": null,
   "id": "5f3bc0d9-ea7c-4776-96e5-0b69c01eb2f9",
   "metadata": {},
   "outputs": [],
   "source": [
    "a = 2\n",
    "a = \"Hallo\"\n",
    "a"
   ]
  },
  {
   "cell_type": "markdown",
   "id": "4f4b521b-85bf-4cd2-b7fa-a097db5460d8",
   "metadata": {},
   "source": [
    "# 2. Operationen auf Objekten\n",
    "\n",
    "Lediglich Sachen mit Variablennamen zu speichern ist noch nicht so nützlich.\n",
    "Wir würden gerne Operationen und Manipulationen auf den gespeicherten Daten durchführen.\n",
    "\n",
    "Es gibt 2 sehr oft vorkommende Arten wie man eine Operation auf Objekten ausführen kann."
   ]
  },
  {
   "cell_type": "markdown",
   "id": "bbc7baf5-c341-4604-82ae-91b3e0db4542",
   "metadata": {},
   "source": [
    "## 2.1. Operatoren\n",
    "\n",
    "Auf Zahlen kann man wie erwartet alle vom Taschenrechner bekannten Operatoren ausführen."
   ]
  },
  {
   "cell_type": "code",
   "execution_count": null,
   "id": "e164aadb-8398-4e6b-8098-f761f1dfc77f",
   "metadata": {},
   "outputs": [],
   "source": [
    "a = 2\n",
    "b = 3"
   ]
  },
  {
   "cell_type": "code",
   "execution_count": null,
   "id": "61df2c6a-50ba-4476-873e-e85c97e6c104",
   "metadata": {},
   "outputs": [],
   "source": [
    "print(\"a+b\", a+b)\n",
    "print(\"a*b\", a*b)\n",
    "print(\"a**b\", a**b)\n",
    "print(\"a/b\", a/b)\n",
    "print(\"a//b\", a//b)"
   ]
  },
  {
   "cell_type": "markdown",
   "id": "1c282e59-af89-42e5-9f0b-18b6b8ba4752",
   "metadata": {},
   "source": [
    "Manche Operatoren lassen sich auch auf anderen Datentypen anwenden. \n",
    "\n",
    "Beispielsweise strings (Zeichenketten)"
   ]
  },
  {
   "cell_type": "code",
   "execution_count": null,
   "id": "f636ed1f-3659-4fce-b5be-87fd766872ca",
   "metadata": {},
   "outputs": [],
   "source": [
    "\"Hallo \" + \"Welt\""
   ]
  },
  {
   "cell_type": "code",
   "execution_count": null,
   "id": "4afcc2a3-3aad-43cb-a1e3-d73757bb5096",
   "metadata": {},
   "outputs": [],
   "source": [
    "\"Hallo \" * 4"
   ]
  },
  {
   "cell_type": "code",
   "execution_count": null,
   "id": "195d8116-3cc3-44fe-8e9d-674fcaa04205",
   "metadata": {},
   "outputs": [],
   "source": [
    "## aber eben nicht alle! \n",
    "# \"Hallo \" ** 4"
   ]
  },
  {
   "cell_type": "code",
   "execution_count": null,
   "id": "26031f0d-0c92-45d8-924f-01962cf5ab27",
   "metadata": {},
   "outputs": [],
   "source": [
    "# Vergleichsoperatoren geben einen Boolschen Wert (wahr / falsch) aus\n",
    "1 > 2"
   ]
  },
  {
   "cell_type": "code",
   "execution_count": null,
   "id": "3fe1ffed-25ae-4101-9630-c6682fc5a85f",
   "metadata": {},
   "outputs": [],
   "source": [
    "3 == 3"
   ]
  },
  {
   "cell_type": "code",
   "execution_count": null,
   "id": "94bf6d6f-73d4-4b38-aafc-f0590b13dab9",
   "metadata": {},
   "outputs": [],
   "source": [
    "a = 2\n",
    "2 == 2"
   ]
  },
  {
   "cell_type": "markdown",
   "id": "b6ad8180-190e-4fe8-a152-d42d415511b2",
   "metadata": {},
   "source": [
    "## 2.2. Funktionen\n",
    "\n",
    "Funktionen nehmen eine Variable als Argument und führen Berechnungen oder sonstige Manipulationen durch.\n",
    "\n",
    "Zwei haben wir bereits verwendet ohne zu wissen, dass sie eine Funktion waren."
   ]
  },
  {
   "cell_type": "code",
   "execution_count": null,
   "id": "33c8ce4b-4551-401b-909f-acb1f145f46f",
   "metadata": {},
   "outputs": [],
   "source": [
    "# print() gibt die gegebene Variable aus\n",
    "print(a)"
   ]
  },
  {
   "cell_type": "code",
   "execution_count": null,
   "id": "4fd49fd8-558f-469b-81bc-4e3e994a80d6",
   "metadata": {},
   "outputs": [],
   "source": [
    "# type() zeigt den Datentypen an\n",
    "type(a)"
   ]
  },
  {
   "cell_type": "code",
   "execution_count": null,
   "id": "9d3e2ff6-91a5-490d-bd85-f9710e3827e0",
   "metadata": {},
   "outputs": [],
   "source": [
    "len(\"Hallo\")"
   ]
  },
  {
   "cell_type": "code",
   "execution_count": null,
   "id": "c9ffaed7-d281-46ad-8431-197010151ee3",
   "metadata": {},
   "outputs": [],
   "source": [
    "round(3.3)"
   ]
  },
  {
   "cell_type": "markdown",
   "id": "ea973755-909a-430f-a669-8f8eb61e0fed",
   "metadata": {},
   "source": [
    "Indem wir ein Fragezeichen vor eine Funktion setzen können wir nachlesen was sie tut."
   ]
  },
  {
   "cell_type": "code",
   "execution_count": null,
   "id": "f65d7ca6-6b5d-4289-983b-e735e17addb2",
   "metadata": {},
   "outputs": [],
   "source": [
    "?round"
   ]
  },
  {
   "cell_type": "markdown",
   "id": "2caea2a7-2b7f-4868-a059-1e37980c8568",
   "metadata": {},
   "source": [
    "Aufbau:\n",
    "- _Signature_\n",
    "    - Signatur der Funktion, also was sie als Eingabe erwartet\n",
    "    - Es ist möglich Standardwerte für optionale Argumente zu setzen. Wie hier beispielsweise `ndigits=None`. \n",
    "    - Standardmäßig wird also auf \"keine\" Nachkommastelle gerundet.\n",
    "    - Mit `round(3.33, ndigits=1)` würden wir auf `3.3` runden\n",
    "    - Alternativ braucht man die Argumentnamen nicht ausschreiben. Diese auszuschreiben hilft aber meist der Lesbarkeit: `round(3.33, 1)` gibt auch `3.3` aus.\n",
    "- _Docstring_\n",
    "    - Steht für Dokumentationszeichenkette\n",
    "    - Kurze Beschreibung der Funktionsweise der Funktion"
   ]
  },
  {
   "cell_type": "code",
   "execution_count": null,
   "id": "514c0c31-7db1-4a38-8010-4bc6a3c4911a",
   "metadata": {},
   "outputs": [],
   "source": [
    "round(3.14159, 3)"
   ]
  },
  {
   "cell_type": "markdown",
   "id": "408a5bfe-385f-4422-b9fa-fb4e6e31b8df",
   "metadata": {},
   "source": [
    "Python kommt mit nur wenigen Standardfunktionen (`print()`, `type()`, `len()`, `round()`, ...)\n",
    "\n",
    "Viele Funktionen sind aber in Bibliotheken versteckt die wir einfach importieren können.\n",
    "\n",
    "Beispielsweise bietet die `math` Bibliothek viele mathematische Funktionen und Variablen"
   ]
  },
  {
   "cell_type": "code",
   "execution_count": null,
   "id": "f4dfb02c-4ffd-41f3-ad37-629ec9106126",
   "metadata": {},
   "outputs": [],
   "source": [
    "import math"
   ]
  },
  {
   "cell_type": "code",
   "execution_count": null,
   "id": "58d47c30-263e-4c86-aa50-8245dac40b6a",
   "metadata": {},
   "outputs": [],
   "source": [
    "# sqrt = square root, i.e. Wurzel\n",
    "math.sqrt(4)"
   ]
  },
  {
   "cell_type": "markdown",
   "id": "7113ab50-4623-4293-812e-a653a0defd03",
   "metadata": {},
   "source": [
    "Die `math` Bibliothek beinhaltet aber auch beispielsweise die Zahl `pi`"
   ]
  },
  {
   "cell_type": "code",
   "execution_count": null,
   "id": "47cc9a4d-cf9e-46ef-b3ef-7f30da7b1648",
   "metadata": {},
   "outputs": [],
   "source": [
    "math.pi"
   ]
  },
  {
   "cell_type": "markdown",
   "id": "1ea082f9-0f28-44bf-bb33-7f096a0b8e9c",
   "metadata": {},
   "source": [
    "# 3. Schleifen\n",
    "\n",
    "Bis jetzt konnten wir alles, was wir getan haben, im Prinzip von Hand berechnen. In diesem und dem nächsten Abschnitt beginnen wir, die Möglichkeiten von Programmiersprachen zu nutzen, um Dinge automatisch für uns zu erledigen.\n",
    "\n",
    "Wir beginnen hier mit Möglichkeiten, sich zu wiederholen. Die beiden gängigsten Methoden hierfür sind die for-Schleifen und die while-Schleifen. For-Schleifen in Python sind nützlich, wenn Sie alle Elemente einer Sammlung (z. B. alle Elemente einer Liste) durchlaufen wollen, und while-Schleifen sind nützlich, wenn Sie einen Zyklus auf unbestimmte Zeit durchführen wollen, bis eine Bedingung erfüllt ist."
   ]
  },
  {
   "cell_type": "markdown",
   "id": "c81fa97f-0a62-4b08-b268-3bdb8e3f4ef6",
   "metadata": {},
   "source": [
    "## 3.1. `for` Schleife"
   ]
  },
  {
   "cell_type": "markdown",
   "id": "8166dfbf-6b75-4fd0-b15b-96820ac7438c",
   "metadata": {},
   "source": [
    "Wir können zum einen `n` mal durch eine Schleife gehen."
   ]
  },
  {
   "cell_type": "code",
   "execution_count": null,
   "id": "445cd816-ac15-4682-93de-69c2614bb62f",
   "metadata": {},
   "outputs": [],
   "source": [
    "# Gehe 10 mal in die Schleife\n",
    "# i speichert hierbei die aktuelle Zahl (Iteration)\n",
    "for i in range(10):\n",
    "    print(i)"
   ]
  },
  {
   "cell_type": "markdown",
   "id": "64f980d3-b29d-4b84-b5c7-9b51a59261df",
   "metadata": {},
   "source": [
    "Hinweis: in der Informatik und somit auch in den allermeisten Programmiersprachen beginnt man bei `0` an zu zählen."
   ]
  },
  {
   "cell_type": "markdown",
   "id": "df2d1e07-ebbe-4fc3-afdf-c6549084672b",
   "metadata": {},
   "source": [
    "Hinweis: In Python wird innerhalb von Schleifen eingerückt.\n",
    "Alles was eingerückt ist, wird in der Schleife wiederholt!\n",
    "\n",
    "Beachte, dass alles gleichmäßig eingerückt werden muss!\n",
    "\n",
    "Normalerweise wird um ein `TAB` eingerückt, welches üblicherweise 4 Leerzeichen entspricht"
   ]
  },
  {
   "cell_type": "code",
   "execution_count": null,
   "id": "80454c2d-09bc-4760-92b8-5e1fc7066723",
   "metadata": {},
   "outputs": [],
   "source": [
    "summed = 0\n",
    "for i in range(10):\n",
    "    # innerhalb der Schleife\n",
    "    \n",
    "    summed = summed + i\n",
    "    print(summed)\n",
    "    \n",
    "    # innerhalb der Schleife\n",
    "    \n",
    "    \n",
    "# außerhalb der Schleife\n",
    "\n",
    "summed = summed + i\n",
    "print(summed)"
   ]
  },
  {
   "cell_type": "markdown",
   "id": "6a544dd6-e348-41bb-89d8-c1dbce855911",
   "metadata": {},
   "source": [
    "Alternativ können wir auch direkt durch Elemente einer Liste iterieren."
   ]
  },
  {
   "cell_type": "code",
   "execution_count": null,
   "id": "8207ed1c-9116-42c3-ab33-030b1a57d2b1",
   "metadata": {},
   "outputs": [],
   "source": [
    "for word in [\"Hallo\", \"Hey\", \"Tschüss\"]:\n",
    "    print(word)"
   ]
  },
  {
   "cell_type": "markdown",
   "id": "258da525-2737-4f1a-be84-0aff2615c561",
   "metadata": {},
   "source": [
    "## 3.2. `while` Schleifen\n",
    "\n",
    "Diese werden hingegen genutzt um etwas so lange durchzuführen wie eine Bedingung erfüllt bleibt."
   ]
  },
  {
   "cell_type": "code",
   "execution_count": null,
   "id": "13044253-2280-4b12-9a87-9aad9d19bce1",
   "metadata": {},
   "outputs": [],
   "source": [
    "result = 1\n",
    "counter = 0\n",
    "\n",
    "while result < 100:\n",
    "    result = result * 2\n",
    "    counter = counter + 1\n",
    "    \n",
    "print(\"After\", counter, \"steps the result reached:\", result)"
   ]
  },
  {
   "cell_type": "markdown",
   "id": "9cbb6287",
   "metadata": {},
   "source": [
    "# 4. Entscheidungen treffen"
   ]
  },
  {
   "cell_type": "markdown",
   "id": "f3ea6a04",
   "metadata": {},
   "source": [
    "Wir können mit `if` zustandsabhängig verschiedene Entscheidungen treffen!"
   ]
  },
  {
   "cell_type": "code",
   "execution_count": null,
   "id": "fd3f92db",
   "metadata": {},
   "outputs": [],
   "source": [
    "x = 1 \n",
    "\n",
    "if x > 0:\n",
    "    print(\"x ist größer als 0.\")"
   ]
  },
  {
   "cell_type": "markdown",
   "id": "1d88181b",
   "metadata": {},
   "source": [
    "Mit `else` können wir den gegenteiligen Zustand abgreifen."
   ]
  },
  {
   "cell_type": "code",
   "execution_count": null,
   "id": "2ada9a35",
   "metadata": {},
   "outputs": [],
   "source": [
    "x = -1\n",
    "\n",
    "if x > 0:\n",
    "    print(\"x ist größer als 0.\")\n",
    "else: \n",
    "    print(\"x ist kleiner oder gleich 0.\")\n",
    "print(\"lala\")"
   ]
  },
  {
   "cell_type": "markdown",
   "id": "e7bcbc3d",
   "metadata": {},
   "source": [
    "Weiter können wir mit `elif` weitere Zustände abfragen."
   ]
  },
  {
   "cell_type": "code",
   "execution_count": null,
   "id": "e778685f",
   "metadata": {},
   "outputs": [],
   "source": [
    "x = 2\n",
    "\n",
    "if x > 0:\n",
    "    print(\"x ist größer als 0.\")\n",
    "elif x > 1:\n",
    "    print(\"x ist größer als 1.\")\n",
    "elif x == 0:\n",
    "    print(\"x ist gleich 0.\")\n",
    "else: \n",
    "    print(\"x ist kleiner als 0.\")"
   ]
  },
  {
   "cell_type": "markdown",
   "id": "7c8ac54e",
   "metadata": {},
   "source": [
    "**Tipp**: Auf diese Art und Weise können wir auch `while` Schleifen durch `for` Schleifen ersetzen.\n",
    "\n",
    "Siehe hier die `while` Schleife von eben:"
   ]
  },
  {
   "cell_type": "code",
   "execution_count": null,
   "id": "ccf2ca3d",
   "metadata": {},
   "outputs": [],
   "source": [
    "result = 1\n",
    "counter = 0\n",
    "\n",
    "while result < 100:\n",
    "    result = result * 2\n",
    "    counter = counter + 1\n",
    "    \n",
    "print(\"After\", counter, \"steps the result reached:\", result)"
   ]
  },
  {
   "cell_type": "markdown",
   "id": "27cc50ba",
   "metadata": {},
   "source": [
    "Als `for` Schleife mit `if` Abfragen"
   ]
  },
  {
   "cell_type": "code",
   "execution_count": null,
   "id": "49ee0ddd",
   "metadata": {},
   "outputs": [],
   "source": [
    "result = 1\n",
    "\n",
    "for i in range(100000):\n",
    "    result = result * 2\n",
    "\n",
    "    if not result < 100:\n",
    "        # brich die for Schleife ab\n",
    "        break\n",
    "\n",
    "print(\"After\", i + 1, \"steps the result reached:\", result)"
   ]
  },
  {
   "cell_type": "code",
   "execution_count": null,
   "id": "ef538b3b-9000-4056-a371-f98f7ba720a6",
   "metadata": {},
   "outputs": [],
   "source": [
    "1 <= 2"
   ]
  },
  {
   "cell_type": "code",
   "execution_count": null,
   "id": "9009bd0f-6e0a-410d-91d5-896c0138376d",
   "metadata": {},
   "outputs": [],
   "source": [
    "2 < 2"
   ]
  },
  {
   "cell_type": "code",
   "execution_count": null,
   "id": "3f24a39a-4c96-4444-bb40-a2305f983a5d",
   "metadata": {},
   "outputs": [],
   "source": [
    "2 <= 2"
   ]
  },
  {
   "cell_type": "markdown",
   "id": "7e4f40b8",
   "metadata": {},
   "source": [
    "Alle möglichen Vergleichsoperationen:\n",
    "\n",
    "- `<` - kleiner\n",
    "- `>` - größer\n",
    "- `==` - gleich\n",
    "- `<=` - kleiner-gleich\n",
    "- `>=` - größer-gleich\n",
    "- `!=` - ungleich\n"
   ]
  },
  {
   "cell_type": "markdown",
   "id": "4024fa88",
   "metadata": {},
   "source": [
    "# Linksammlung\n",
    "\n",
    "Klick auf einen der Links um in die jeweiligen Notebooks zu wechseln\n",
    "\n",
    "1. [Basics Notebook](https://colab.research.google.com/github/aleks-krasowski/femtec_ml_workshop/blob/main/notebooks/01_basics.ipynb)\n",
    "2. [EDA Notebook](https://colab.research.google.com/github/aleks-krasowski/femtec_ml_workshop/blob/main/notebooks/02_exploratory_data_analysis.ipynb)\n",
    "3. [ML Notebook](https://colab.research.google.com/github/aleks-krasowski/femtec_ml_workshop/blob/main/notebooks/03_conventional_ml.ipynb)\n",
    "4. [DL Notebook](https://colab.research.google.com/github/aleks-krasowski/femtec_ml_workshop/blob/main/notebooks/04_deep_learning.ipynb)"
   ]
  }
 ],
 "metadata": {
  "kernelspec": {
   "display_name": "Python 3 (ipykernel)",
   "language": "python",
   "name": "python3"
  },
  "language_info": {
   "codemirror_mode": {
    "name": "ipython",
    "version": 3
   },
   "file_extension": ".py",
   "mimetype": "text/x-python",
   "name": "python",
   "nbconvert_exporter": "python",
   "pygments_lexer": "ipython3",
   "version": "3.11.4"
  },
  "vscode": {
   "interpreter": {
    "hash": "b0fa6594d8f4cbf19f97940f81e996739fb7646882a419484c72d19e05852a7e"
   }
  }
 },
 "nbformat": 4,
 "nbformat_minor": 5
}
