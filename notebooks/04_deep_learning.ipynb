{
 "cells": [
  {
   "cell_type": "markdown",
   "metadata": {},
   "source": [
    "# Deep Learning\n",
    "\n",
    "Deep Learning ist selbst eine Unterkategorie vom Machine Learning. \n",
    "\n",
    "Großer Unterschied:\n",
    "- Wir legen keine Features/Variablen fest\n",
    "- Klassisches ML benötigt viel Vorarbeit\n",
    "    - Welche Variablen wollen wir extrahieren/messen?\n",
    "    - Wie können wir sie (automatisch?) entnehmen\n",
    "    - Oft sind Domänenexperten (bspw. Arzt für medizinische Modelle) notwendig\n",
    "    - Heißt meistens teuer + limitiert durch die Auswahl an Features\n",
    "- Deep Learning arbeitet mit der Annahme, dass das Modell komplex genug ist selber Zusammenhänge in den Daten zu finden\n",
    "- Potentiell auch solche, an die man niemals denken würde\n",
    "\n",
    "Bringt aber auch einen großen Nachteil mit sich mit:\n",
    "- Durch die Komplexität sind die Modelle sogenannte _Black-Boxes_\n",
    "- Heißt es ist sehr schwierig herauszufinden _wieso_ das Modell zu seiner Entscheidung kam"
   ]
  },
  {
   "cell_type": "markdown",
   "metadata": {},
   "source": [
    "## Deep Learning mit Python\n",
    "\n",
    "In Python gibt es zwei populäre Deep Learning Libraries.\n",
    "\n",
    "### Tensorflow\n",
    "\n",
    "- **Entwickler**: Google Brain \n",
    "- `tf.keras` bietet eine High-Level API an\n",
    "    - Viele Vorimplementierte Quality-of-Life Funktionalitäten\n",
    "    - Low-Level Zugriff ist recht schwierig\n",
    "- Vorteil: einfache Handhabung\n",
    "- Nachteil: schwierigeres Debugging + Manipulation von Funktionalitäten\n",
    "\n",
    "### PyTorch\n",
    "\n",
    "- **Entwickler**: Facebook's AI Reserarch Lab (FAIR) - Jetzt Pytorch Foundation\n",
    "- Guter Low-Level Zugriff\n",
    "- Etwas komplexer zu erlernen aber finde ich persönlich mächtiger\n",
    "- Immer stärker verbreitet, insbesondere in der Wissenschaft"
   ]
  },
  {
   "cell_type": "markdown",
   "metadata": {},
   "source": [
    "![](_img/04_tensorflow_vs_pytorch.png)"
   ]
  },
  {
   "cell_type": "code",
   "execution_count": 1,
   "metadata": {},
   "outputs": [],
   "source": [
    "import matplotlib.pyplot as plt\n",
    "import numpy as np\n",
    "import torch\n",
    "import torch.nn as nn\n",
    "import torchvision\n",
    "import torchvision.transforms as transforms\n",
    "from sklearn.metrics import accuracy_score, confusion_matrix, f1_score\n",
    "from sklearn.model_selection import train_test_split"
   ]
  },
  {
   "cell_type": "markdown",
   "metadata": {},
   "source": [
    "## Datensatz Pipeline\n",
    "\n",
    "Wir müssen die Daten etwas aufwendigerer vorbereiten als letztes mal damit sie gut mit dem Netzwerk funktionieren und unsere Grafikkarte nicht überfordern."
   ]
  },
  {
   "cell_type": "markdown",
   "metadata": {},
   "source": [
    "Wir können auf die Programmierschnittstelle für NVIDIA Grafikkarten zugreifen um effizienter zu trainieren.\n",
    "\n",
    "Hier deklarieren wir ob wir auf der Grafikkarte arbeiten möchten (sofern verfügbar) oder auf dem Prozessor."
   ]
  },
  {
   "cell_type": "code",
   "execution_count": 36,
   "metadata": {},
   "outputs": [],
   "source": [
    "device = torch.device('cuda' if torch.cuda.is_available() else 'cpu')"
   ]
  },
  {
   "cell_type": "markdown",
   "metadata": {},
   "source": [
    "### Laden der Trainings und Testdatensätze\n",
    "\n",
    "PyTorch hat ähnlich wie `sklearn` Funktionen zum einfachen herunterladen bekannter Datensätze."
   ]
  },
  {
   "cell_type": "code",
   "execution_count": 2,
   "metadata": {},
   "outputs": [
    {
     "name": "stdout",
     "output_type": "stream",
     "text": [
      "Downloading http://yann.lecun.com/exdb/mnist/train-images-idx3-ubyte.gz\n",
      "Failed to download (trying next):\n",
      "HTTP Error 403: Forbidden\n",
      "\n",
      "Downloading https://ossci-datasets.s3.amazonaws.com/mnist/train-images-idx3-ubyte.gz\n",
      "Downloading https://ossci-datasets.s3.amazonaws.com/mnist/train-images-idx3-ubyte.gz to ./data/MNIST/raw/train-images-idx3-ubyte.gz\n"
     ]
    },
    {
     "name": "stderr",
     "output_type": "stream",
     "text": [
      "100%|██████████| 9912422/9912422 [00:00<00:00, 10325398.14it/s]\n"
     ]
    },
    {
     "name": "stdout",
     "output_type": "stream",
     "text": [
      "Extracting ./data/MNIST/raw/train-images-idx3-ubyte.gz to ./data/MNIST/raw\n",
      "\n",
      "Downloading http://yann.lecun.com/exdb/mnist/train-labels-idx1-ubyte.gz\n",
      "Failed to download (trying next):\n",
      "HTTP Error 403: Forbidden\n",
      "\n",
      "Downloading https://ossci-datasets.s3.amazonaws.com/mnist/train-labels-idx1-ubyte.gz\n",
      "Downloading https://ossci-datasets.s3.amazonaws.com/mnist/train-labels-idx1-ubyte.gz to ./data/MNIST/raw/train-labels-idx1-ubyte.gz\n"
     ]
    },
    {
     "name": "stderr",
     "output_type": "stream",
     "text": [
      "100%|██████████| 28881/28881 [00:00<00:00, 268697.82it/s]\n"
     ]
    },
    {
     "name": "stdout",
     "output_type": "stream",
     "text": [
      "Extracting ./data/MNIST/raw/train-labels-idx1-ubyte.gz to ./data/MNIST/raw\n",
      "\n",
      "Downloading http://yann.lecun.com/exdb/mnist/t10k-images-idx3-ubyte.gz\n",
      "Failed to download (trying next):\n",
      "HTTP Error 403: Forbidden\n",
      "\n",
      "Downloading https://ossci-datasets.s3.amazonaws.com/mnist/t10k-images-idx3-ubyte.gz\n",
      "Downloading https://ossci-datasets.s3.amazonaws.com/mnist/t10k-images-idx3-ubyte.gz to ./data/MNIST/raw/t10k-images-idx3-ubyte.gz\n"
     ]
    },
    {
     "name": "stderr",
     "output_type": "stream",
     "text": [
      "100%|██████████| 1648877/1648877 [00:01<00:00, 941574.03it/s] \n"
     ]
    },
    {
     "name": "stdout",
     "output_type": "stream",
     "text": [
      "Extracting ./data/MNIST/raw/t10k-images-idx3-ubyte.gz to ./data/MNIST/raw\n",
      "\n",
      "Downloading http://yann.lecun.com/exdb/mnist/t10k-labels-idx1-ubyte.gz\n",
      "Failed to download (trying next):\n",
      "HTTP Error 403: Forbidden\n",
      "\n",
      "Downloading https://ossci-datasets.s3.amazonaws.com/mnist/t10k-labels-idx1-ubyte.gz\n",
      "Downloading https://ossci-datasets.s3.amazonaws.com/mnist/t10k-labels-idx1-ubyte.gz to ./data/MNIST/raw/t10k-labels-idx1-ubyte.gz\n"
     ]
    },
    {
     "name": "stderr",
     "output_type": "stream",
     "text": [
      "100%|██████████| 4542/4542 [00:00<00:00, 5401340.73it/s]"
     ]
    },
    {
     "name": "stdout",
     "output_type": "stream",
     "text": [
      "Extracting ./data/MNIST/raw/t10k-labels-idx1-ubyte.gz to ./data/MNIST/raw\n",
      "\n"
     ]
    },
    {
     "name": "stderr",
     "output_type": "stream",
     "text": [
      "\n"
     ]
    }
   ],
   "source": [
    "train_dataset = torchvision.datasets.MNIST(root='./data',\n",
    "                                           train=True,\n",
    "                                           download=True)\n",
    "\n",
    "test_dataset = torchvision.datasets.MNIST(root='./data',\n",
    "                                          train=False,\n",
    "                                          download=True)"
   ]
  },
  {
   "cell_type": "markdown",
   "metadata": {},
   "source": [
    "### Inspektion der Daten\n",
    "\n",
    "Lasst uns die Daten anschauen!\n",
    "\n",
    "Mit `train_dataset[i]` können wir uns das `i`-te Element des Datensatzes anschauen.\n",
    "\n",
    "Jedes Element beinhaltet:\n",
    "- Das Bild der handgeschriebenen Zahl (28x28 pixel)\n",
    "- Die jeweilige Klasse (`[0,1,2,3,4,5,6,7,8,9]`)"
   ]
  },
  {
   "cell_type": "code",
   "execution_count": 9,
   "metadata": {},
   "outputs": [
    {
     "data": {
      "text/plain": [
       "(<PIL.Image.Image image mode=L size=28x28>, 5)"
      ]
     },
     "execution_count": 9,
     "metadata": {},
     "output_type": "execute_result"
    }
   ],
   "source": [
    "train_dataset[0]"
   ]
  },
  {
   "cell_type": "code",
   "execution_count": 11,
   "metadata": {},
   "outputs": [
    {
     "data": {
      "image/jpeg": "[encoded data removed]",
      "image/png": "[encoded data removed]",
      "text/plain": [
       "<PIL.Image.Image image mode=L size=28x28>"
      ]
     },
     "execution_count": 11,
     "metadata": {},
     "output_type": "execute_result"
    }
   ],
   "source": [
    "image, label = train_dataset[0]\n",
    "image"
   ]
  },
  {
   "cell_type": "code",
   "execution_count": 12,
   "metadata": {},
   "outputs": [
    {
     "data": {
      "text/plain": [
       "5"
      ]
     },
     "execution_count": 12,
     "metadata": {},
     "output_type": "execute_result"
    }
   ],
   "source": [
    "label"
   ]
  },
  {
   "cell_type": "markdown",
   "metadata": {},
   "source": [
    "### Aufbau eines Neuronalen Netzwerkes\n",
    "\n",
    "![](_img/04_neural_network_structure.png)\n",
    "\n",
    "Einfache Neuronale Netzwerke haben einen Schichtaufbau wobei jedes Neuron jeder Schicht mit jedem der nächsten Schicht verbunden ist. \n",
    "\n",
    "- Input Layer:\n",
    "    - Hier kommt unser Bild rein\n",
    "    - Jedes Neuron nimmt einen Pixelwert an\n",
    "- Hidden Layers:\n",
    "    - Hier passiert die Magie\n",
    "    - Das Neuronale Netzwerk verknüpft die Pixel miteinander und lernt Zusammenhänge\n",
    "- Output Layer:\n",
    "    - Hier wird die Vorhersage getan\n",
    "    - Jeder Neuron wird einer Klasse zugeordnet\n",
    "    - Je mehr ein Neuron hier feuert umso sicherer ist das Modell, dass das Bild der gegebenen Klasse angehört\n",
    "\n",
    "### _Flattening_ der Daten\n",
    "\n",
    "Beachte, dass alle Schichten eindimensional sind. \n",
    "Unsere Inputs sind aber 2-dimensionale Bilder. Heißt damit wir sie in das Netzwerk eingeben können müssen wir sie in einen Vektor umwandeln."
   ]
  },
  {
   "cell_type": "code",
   "execution_count": 15,
   "metadata": {},
   "outputs": [
    {
     "data": {
      "text/plain": [
       "tensor([[[  0,   0,   0,   0,   0,   0,   0,   0,   0,   0,   0,   0,   0,   0,\n",
       "            0,   0,   0,   0,   0,   0,   0,   0,   0,   0,   0,   0,   0,   0],\n",
       "         [  0,   0,   0,   0,   0,   0,   0,   0,   0,   0,   0,   0,   0,   0,\n",
       "            0,   0,   0,   0,   0,   0,   0,   0,   0,   0,   0,   0,   0,   0],\n",
       "         [  0,   0,   0,   0,   0,   0,   0,   0,   0,   0,   0,   0,   0,   0,\n",
       "            0,   0,   0,   0,   0,   0,   0,   0,   0,   0,   0,   0,   0,   0],\n",
       "         [  0,   0,   0,   0,   0,   0,   0,   0,   0,   0,   0,   0,   0,   0,\n",
       "            0,   0,   0,   0,   0,   0,   0,   0,   0,   0,   0,   0,   0,   0],\n",
       "         [  0,   0,   0,   0,   0,   0,   0,   0,   0,   0,   0,   0,   0,   0,\n",
       "            0,   0,   0,   0,   0,   0,   0,   0,   0,   0,   0,   0,   0,   0],\n",
       "         [  0,   0,   0,   0,   0,   0,   0,   0,   0,   0,   0,   0,   0,   0,\n",
       "            0,   0,   0,   0,   0,  17,  47,  47,  47,  47,  47,  47,  28,   0],\n",
       "         [  0,   0,   0,   0,   0,   0,   0,   0,   0,  14,  63,   0,   0,   0,\n",
       "           62, 138, 197, 197, 197, 217, 253, 253, 253, 253, 253, 253, 230,   0],\n",
       "         [  0,   0,   0,   0,   0,   0,   0,   0,   0, 151, 170,   0,  56, 232,\n",
       "          250, 253, 231, 217, 217, 217, 217, 217, 217, 217, 128, 179, 132,   0],\n",
       "         [  0,   0,   0,   0,   0,   0,   0,   0, 104, 251, 170,  20, 233, 253,\n",
       "          199,  84,  26,   0,   0,   0,   0,   0,   0,   0,   0,   0,   0,   0],\n",
       "         [  0,   0,   0,   0,   0,   0,   0,   5, 203, 253, 160,   3,  20,  20,\n",
       "            7,   0,   0,   0,   0,   0,   0,   0,   0,   0,   0,   0,   0,   0],\n",
       "         [  0,   0,   0,   0,   0,   0,   0,  77, 253, 228,  21,   0,   0,   0,\n",
       "            0,   0,   0,   0,   0,   0,   0,   0,   0,   0,   0,   0,   0,   0],\n",
       "         [  0,   0,   0,   0,   0,   0,   0, 150, 253, 249, 223, 223, 193,  71,\n",
       "            6,   0,   0,   0,   0,   0,   0,   0,   0,   0,   0,   0,   0,   0],\n",
       "         [  0,   0,   0,   0,   0,   0,   0, 126, 253, 253, 253, 253, 253, 253,\n",
       "          196, 121,   0,   0,   0,   0,   0,   0,   0,   0,   0,   0,   0,   0],\n",
       "         [  0,   0,   0,   0,   0,   0,   0,   8, 202, 191, 144, 144, 217, 251,\n",
       "          253, 253, 170,   4,   0,   0,   0,   0,   0,   0,   0,   0,   0,   0],\n",
       "         [  0,   0,   0,   0,   0,   0,   0,   0,   0,   0,   0,   0,   0,  53,\n",
       "          236, 253, 253, 215,   3,   0,   0,   0,   0,   0,   0,   0,   0,   0],\n",
       "         [  0,   0,   0,   0,   0,   0,   0,   0,   0,   0,   0,   0,   0,   0,\n",
       "           34, 180, 253, 253, 128,   0,   0,   0,   0,   0,   0,   0,   0,   0],\n",
       "         [  0,   0,   0,   0,   0,   0,   0,   0,   0,   0,   0,   0,   0,   0,\n",
       "            0,   2, 140, 253, 236,  36,   0,   0,   0,   0,   0,   0,   0,   0],\n",
       "         [  0,   0,   0,   0,   0,   0,   0,  37,   0,   0,   0,   0,   0,   0,\n",
       "            0,   0,  13, 215, 253,  62,   0,   0,   0,   0,   0,   0,   0,   0],\n",
       "         [  0,   0,   0,   0,   0,   0,   0, 246,  53,   0,   0,   0,   0,   0,\n",
       "            0,   0,   0, 105, 253,  62,   0,   0,   0,   0,   0,   0,   0,   0],\n",
       "         [  0,   0,   0,   0,   0,   0,   0, 254,  57,   0,   0,   0,   0,   0,\n",
       "            0,   0,   0,  99, 253,  62,   0,   0,   0,   0,   0,   0,   0,   0],\n",
       "         [  0,   0,   0,   0,   0,   0,   0, 255,  65,   0,   0,   0,   0,   0,\n",
       "            0,   0,  35, 217, 253,  62,   0,   0,   0,   0,   0,   0,   0,   0],\n",
       "         [  0,   0,   0,   0,   0,   0,   0, 227, 223, 115,  18,   0,   0,   5,\n",
       "           68, 113, 222, 253, 242,  46,   0,   0,   0,   0,   0,   0,   0,   0],\n",
       "         [  0,   0,   0,   0,   0,   0,   0,  41, 224, 253, 227, 218, 218, 220,\n",
       "          253, 253, 253, 249,  76,   0,   0,   0,   0,   0,   0,   0,   0,   0],\n",
       "         [  0,   0,   0,   0,   0,   0,   0,   0,  35, 150, 215, 253, 253, 253,\n",
       "          253, 205, 175,  57,   0,   0,   0,   0,   0,   0,   0,   0,   0,   0],\n",
       "         [  0,   0,   0,   0,   0,   0,   0,   0,   0,   0,  16,  46,  46,  46,\n",
       "           46,   8,   0,   0,   0,   0,   0,   0,   0,   0,   0,   0,   0,   0],\n",
       "         [  0,   0,   0,   0,   0,   0,   0,   0,   0,   0,   0,   0,   0,   0,\n",
       "            0,   0,   0,   0,   0,   0,   0,   0,   0,   0,   0,   0,   0,   0],\n",
       "         [  0,   0,   0,   0,   0,   0,   0,   0,   0,   0,   0,   0,   0,   0,\n",
       "            0,   0,   0,   0,   0,   0,   0,   0,   0,   0,   0,   0,   0,   0],\n",
       "         [  0,   0,   0,   0,   0,   0,   0,   0,   0,   0,   0,   0,   0,   0,\n",
       "            0,   0,   0,   0,   0,   0,   0,   0,   0,   0,   0,   0,   0,   0]]],\n",
       "       dtype=torch.uint8)"
      ]
     },
     "execution_count": 15,
     "metadata": {},
     "output_type": "execute_result"
    }
   ],
   "source": [
    "# Verwandle Bild Objekt in ein Objekt welches das Modell annehmen kann\n",
    "image = torchvision.transforms.functional.pil_to_tensor(image)\n",
    "image"
   ]
  },
  {
   "cell_type": "markdown",
   "metadata": {},
   "source": [
    "Das Bild beinhaltet Pixelwerte für jede Zeile und Spalte. \n",
    "\n",
    "Mit `image.shape` können wir uns die Dimensionen anzeigen lassen."
   ]
  },
  {
   "cell_type": "code",
   "execution_count": 16,
   "metadata": {},
   "outputs": [
    {
     "data": {
      "text/plain": [
       "torch.Size([1, 28, 28])"
      ]
     },
     "execution_count": 16,
     "metadata": {},
     "output_type": "execute_result"
    }
   ],
   "source": [
    "image.shape"
   ]
  },
  {
   "cell_type": "code",
   "execution_count": 21,
   "metadata": {},
   "outputs": [
    {
     "data": {
      "text/plain": [
       "tensor([  0,   0,   0,   0,   0,   0,   0,   0,   0,   0,   0,   0,   0,   0,\n",
       "          0,   0,   0,   0,   0,   0,   0,   0,   0,   0,   0,   0,   0,   0,\n",
       "          0,   0,   0,   0,   0,   0,   0,   0,   0,   0,   0,   0,   0,   0,\n",
       "          0,   0,   0,   0,   0,   0,   0,   0,   0,   0,   0,   0,   0,   0,\n",
       "          0,   0,   0,   0,   0,   0,   0,   0,   0,   0,   0,   0,   0,   0,\n",
       "          0,   0,   0,   0,   0,   0,   0,   0,   0,   0,   0,   0,   0,   0,\n",
       "          0,   0,   0,   0,   0,   0,   0,   0,   0,   0,   0,   0,   0,   0,\n",
       "          0,   0,   0,   0,   0,   0,   0,   0,   0,   0,   0,   0,   0,   0,\n",
       "          0,   0,   0,   0,   0,   0,   0,   0,   0,   0,   0,   0,   0,   0,\n",
       "          0,   0,   0,   0,   0,   0,   0,   0,   0,   0,   0,   0,   0,   0,\n",
       "          0,   0,   0,   0,   0,   0,   0,   0,   0,   0,   0,   0,   0,   0,\n",
       "          0,   0,   0,   0,   0,  17,  47,  47,  47,  47,  47,  47,  28,   0,\n",
       "          0,   0,   0,   0,   0,   0,   0,   0,   0,  14,  63,   0,   0,   0,\n",
       "         62, 138, 197, 197, 197, 217, 253, 253, 253, 253, 253, 253, 230,   0,\n",
       "          0,   0,   0,   0,   0,   0,   0,   0,   0, 151, 170,   0,  56, 232,\n",
       "        250, 253, 231, 217, 217, 217, 217, 217, 217, 217, 128, 179, 132,   0,\n",
       "          0,   0,   0,   0,   0,   0,   0,   0, 104, 251, 170,  20, 233, 253,\n",
       "        199,  84,  26,   0,   0,   0,   0,   0,   0,   0,   0,   0,   0,   0,\n",
       "          0,   0,   0,   0,   0,   0,   0,   5, 203, 253, 160,   3,  20,  20,\n",
       "          7,   0,   0,   0,   0,   0,   0,   0,   0,   0,   0,   0,   0,   0,\n",
       "          0,   0,   0,   0,   0,   0,   0,  77, 253, 228,  21,   0,   0,   0,\n",
       "          0,   0,   0,   0,   0,   0,   0,   0,   0,   0,   0,   0,   0,   0,\n",
       "          0,   0,   0,   0,   0,   0,   0, 150, 253, 249, 223, 223, 193,  71,\n",
       "          6,   0,   0,   0,   0,   0,   0,   0,   0,   0,   0,   0,   0,   0,\n",
       "          0,   0,   0,   0,   0,   0,   0, 126, 253, 253, 253, 253, 253, 253,\n",
       "        196, 121,   0,   0,   0,   0,   0,   0,   0,   0,   0,   0,   0,   0,\n",
       "          0,   0,   0,   0,   0,   0,   0,   8, 202, 191, 144, 144, 217, 251,\n",
       "        253, 253, 170,   4,   0,   0,   0,   0,   0,   0,   0,   0,   0,   0,\n",
       "          0,   0,   0,   0,   0,   0,   0,   0,   0,   0,   0,   0,   0,  53,\n",
       "        236, 253, 253, 215,   3,   0,   0,   0,   0,   0,   0,   0,   0,   0,\n",
       "          0,   0,   0,   0,   0,   0,   0,   0,   0,   0,   0,   0,   0,   0,\n",
       "         34, 180, 253, 253, 128,   0,   0,   0,   0,   0,   0,   0,   0,   0,\n",
       "          0,   0,   0,   0,   0,   0,   0,   0,   0,   0,   0,   0,   0,   0,\n",
       "          0,   2, 140, 253, 236,  36,   0,   0,   0,   0,   0,   0,   0,   0,\n",
       "          0,   0,   0,   0,   0,   0,   0,  37,   0,   0,   0,   0,   0,   0,\n",
       "          0,   0,  13, 215, 253,  62,   0,   0,   0,   0,   0,   0,   0,   0,\n",
       "          0,   0,   0,   0,   0,   0,   0, 246,  53,   0,   0,   0,   0,   0,\n",
       "          0,   0,   0, 105, 253,  62,   0,   0,   0,   0,   0,   0,   0,   0,\n",
       "          0,   0,   0,   0,   0,   0,   0, 254,  57,   0,   0,   0,   0,   0,\n",
       "          0,   0,   0,  99, 253,  62,   0,   0,   0,   0,   0,   0,   0,   0,\n",
       "          0,   0,   0,   0,   0,   0,   0, 255,  65,   0,   0,   0,   0,   0,\n",
       "          0,   0,  35, 217, 253,  62,   0,   0,   0,   0,   0,   0,   0,   0,\n",
       "          0,   0,   0,   0,   0,   0,   0, 227, 223, 115,  18,   0,   0,   5,\n",
       "         68, 113, 222, 253, 242,  46,   0,   0,   0,   0,   0,   0,   0,   0,\n",
       "          0,   0,   0,   0,   0,   0,   0,  41, 224, 253, 227, 218, 218, 220,\n",
       "        253, 253, 253, 249,  76,   0,   0,   0,   0,   0,   0,   0,   0,   0,\n",
       "          0,   0,   0,   0,   0,   0,   0,   0,  35, 150, 215, 253, 253, 253,\n",
       "        253, 205, 175,  57,   0,   0,   0,   0,   0,   0,   0,   0,   0,   0,\n",
       "          0,   0,   0,   0,   0,   0,   0,   0,   0,   0,  16,  46,  46,  46,\n",
       "         46,   8,   0,   0,   0,   0,   0,   0,   0,   0,   0,   0,   0,   0,\n",
       "          0,   0,   0,   0,   0,   0,   0,   0,   0,   0,   0,   0,   0,   0,\n",
       "          0,   0,   0,   0,   0,   0,   0,   0,   0,   0,   0,   0,   0,   0,\n",
       "          0,   0,   0,   0,   0,   0,   0,   0,   0,   0,   0,   0,   0,   0,\n",
       "          0,   0,   0,   0,   0,   0,   0,   0,   0,   0,   0,   0,   0,   0,\n",
       "          0,   0,   0,   0,   0,   0,   0,   0,   0,   0,   0,   0,   0,   0,\n",
       "          0,   0,   0,   0,   0,   0,   0,   0,   0,   0,   0,   0,   0,   0],\n",
       "       dtype=torch.uint8)"
      ]
     },
     "execution_count": 21,
     "metadata": {},
     "output_type": "execute_result"
    }
   ],
   "source": [
    "# wir verandeln das Bild von 2D zu 1D\n",
    "image = torch.flatten(image)\n",
    "image"
   ]
  },
  {
   "cell_type": "code",
   "execution_count": 22,
   "metadata": {},
   "outputs": [
    {
     "data": {
      "text/plain": [
       "torch.Size([784])"
      ]
     },
     "execution_count": 22,
     "metadata": {},
     "output_type": "execute_result"
    }
   ],
   "source": [
    "image.shape"
   ]
  },
  {
   "cell_type": "markdown",
   "metadata": {},
   "source": [
    "### Normalisierung\n",
    "\n",
    "Neuronale Netzwerke wenden entlang der Schichten Multiplikationen an. \n",
    "Damit wir in einem Wertebereich bleiben der nicht Richtung unendlich explodiert ist es sinnvoll die Werte zwischen 0 und 1 zu beschränken."
   ]
  },
  {
   "cell_type": "code",
   "execution_count": 24,
   "metadata": {},
   "outputs": [],
   "source": [
    "image = image / 255"
   ]
  },
  {
   "cell_type": "markdown",
   "metadata": {},
   "source": [
    "### Alles zusammen"
   ]
  },
  {
   "cell_type": "code",
   "execution_count": 28,
   "metadata": {},
   "outputs": [],
   "source": [
    "# Klasse die die Transformationen durchführt\n",
    "class ApplyTransform:\n",
    "    def __call__(self, img):\n",
    "        # image to tensor\n",
    "        img = torchvision.transforms.functional.pil_to_tensor(img)\n",
    "        # flatten\n",
    "        img = torch.flatten(img)\n",
    "        # normalize\n",
    "        img = img / 255.0\n",
    "\n",
    "        return img         \n",
    "\n",
    "transforms = ApplyTransform()\n",
    "train_dataset = torchvision.datasets.MNIST(root='./data',\n",
    "                                           train=True,\n",
    "                                           transform=transforms, # Datantransformation\n",
    "                                           download=True)\n",
    "\n",
    "test_dataset = torchvision.datasets.MNIST(root='./data',\n",
    "                                          train=False,\n",
    "                                          transform=transforms, # Datentransformation\n",
    "                                          download=True)"
   ]
  },
  {
   "cell_type": "code",
   "execution_count": 27,
   "metadata": {},
   "outputs": [
    {
     "data": {
      "text/plain": [
       "(tensor([0.0000, 0.0000, 0.0000, 0.0000, 0.0000, 0.0000, 0.0000, 0.0000, 0.0000,\n",
       "         0.0000, 0.0000, 0.0000, 0.0000, 0.0000, 0.0000, 0.0000, 0.0000, 0.0000,\n",
       "         0.0000, 0.0000, 0.0000, 0.0000, 0.0000, 0.0000, 0.0000, 0.0000, 0.0000,\n",
       "         0.0000, 0.0000, 0.0000, 0.0000, 0.0000, 0.0000, 0.0000, 0.0000, 0.0000,\n",
       "         0.0000, 0.0000, 0.0000, 0.0000, 0.0000, 0.0000, 0.0000, 0.0000, 0.0000,\n",
       "         0.0000, 0.0000, 0.0000, 0.0000, 0.0000, 0.0000, 0.0000, 0.0000, 0.0000,\n",
       "         0.0000, 0.0000, 0.0000, 0.0000, 0.0000, 0.0000, 0.0000, 0.0000, 0.0000,\n",
       "         0.0000, 0.0000, 0.0000, 0.0000, 0.0000, 0.0000, 0.0000, 0.0000, 0.0000,\n",
       "         0.0000, 0.0000, 0.0000, 0.0000, 0.0000, 0.0000, 0.0000, 0.0000, 0.0000,\n",
       "         0.0000, 0.0000, 0.0000, 0.0000, 0.0000, 0.0000, 0.0000, 0.0000, 0.0000,\n",
       "         0.0000, 0.0000, 0.0000, 0.0000, 0.0000, 0.0000, 0.0000, 0.0000, 0.0000,\n",
       "         0.0000, 0.0000, 0.0000, 0.0000, 0.0000, 0.0000, 0.0000, 0.0000, 0.0000,\n",
       "         0.0000, 0.0000, 0.0000, 0.0000, 0.0000, 0.0000, 0.0000, 0.0000, 0.0000,\n",
       "         0.0000, 0.0000, 0.0000, 0.0000, 0.0000, 0.0000, 0.0000, 0.0000, 0.0000,\n",
       "         0.0000, 0.0000, 0.0000, 0.0000, 0.0000, 0.0000, 0.0000, 0.0000, 0.0000,\n",
       "         0.0000, 0.0000, 0.0000, 0.0000, 0.0000, 0.0000, 0.0000, 0.0000, 0.0000,\n",
       "         0.0000, 0.0000, 0.0000, 0.0000, 0.0000, 0.0000, 0.0000, 0.0000, 0.0118,\n",
       "         0.0706, 0.0706, 0.0706, 0.4941, 0.5333, 0.6863, 0.1020, 0.6510, 1.0000,\n",
       "         0.9686, 0.4980, 0.0000, 0.0000, 0.0000, 0.0000, 0.0000, 0.0000, 0.0000,\n",
       "         0.0000, 0.0000, 0.0000, 0.0000, 0.0000, 0.1176, 0.1412, 0.3686, 0.6039,\n",
       "         0.6667, 0.9922, 0.9922, 0.9922, 0.9922, 0.9922, 0.8824, 0.6745, 0.9922,\n",
       "         0.9490, 0.7647, 0.2510, 0.0000, 0.0000, 0.0000, 0.0000, 0.0000, 0.0000,\n",
       "         0.0000, 0.0000, 0.0000, 0.0000, 0.0000, 0.1922, 0.9333, 0.9922, 0.9922,\n",
       "         0.9922, 0.9922, 0.9922, 0.9922, 0.9922, 0.9922, 0.9843, 0.3647, 0.3216,\n",
       "         0.3216, 0.2196, 0.1529, 0.0000, 0.0000, 0.0000, 0.0000, 0.0000, 0.0000,\n",
       "         0.0000, 0.0000, 0.0000, 0.0000, 0.0000, 0.0000, 0.0706, 0.8588, 0.9922,\n",
       "         0.9922, 0.9922, 0.9922, 0.9922, 0.7765, 0.7137, 0.9686, 0.9451, 0.0000,\n",
       "         0.0000, 0.0000, 0.0000, 0.0000, 0.0000, 0.0000, 0.0000, 0.0000, 0.0000,\n",
       "         0.0000, 0.0000, 0.0000, 0.0000, 0.0000, 0.0000, 0.0000, 0.0000, 0.3137,\n",
       "         0.6118, 0.4196, 0.9922, 0.9922, 0.8039, 0.0431, 0.0000, 0.1686, 0.6039,\n",
       "         0.0000, 0.0000, 0.0000, 0.0000, 0.0000, 0.0000, 0.0000, 0.0000, 0.0000,\n",
       "         0.0000, 0.0000, 0.0000, 0.0000, 0.0000, 0.0000, 0.0000, 0.0000, 0.0000,\n",
       "         0.0000, 0.0549, 0.0039, 0.6039, 0.9922, 0.3529, 0.0000, 0.0000, 0.0000,\n",
       "         0.0000, 0.0000, 0.0000, 0.0000, 0.0000, 0.0000, 0.0000, 0.0000, 0.0000,\n",
       "         0.0000, 0.0000, 0.0000, 0.0000, 0.0000, 0.0000, 0.0000, 0.0000, 0.0000,\n",
       "         0.0000, 0.0000, 0.0000, 0.0000, 0.5451, 0.9922, 0.7451, 0.0078, 0.0000,\n",
       "         0.0000, 0.0000, 0.0000, 0.0000, 0.0000, 0.0000, 0.0000, 0.0000, 0.0000,\n",
       "         0.0000, 0.0000, 0.0000, 0.0000, 0.0000, 0.0000, 0.0000, 0.0000, 0.0000,\n",
       "         0.0000, 0.0000, 0.0000, 0.0000, 0.0000, 0.0431, 0.7451, 0.9922, 0.2745,\n",
       "         0.0000, 0.0000, 0.0000, 0.0000, 0.0000, 0.0000, 0.0000, 0.0000, 0.0000,\n",
       "         0.0000, 0.0000, 0.0000, 0.0000, 0.0000, 0.0000, 0.0000, 0.0000, 0.0000,\n",
       "         0.0000, 0.0000, 0.0000, 0.0000, 0.0000, 0.0000, 0.0000, 0.1373, 0.9451,\n",
       "         0.8824, 0.6275, 0.4235, 0.0039, 0.0000, 0.0000, 0.0000, 0.0000, 0.0000,\n",
       "         0.0000, 0.0000, 0.0000, 0.0000, 0.0000, 0.0000, 0.0000, 0.0000, 0.0000,\n",
       "         0.0000, 0.0000, 0.0000, 0.0000, 0.0000, 0.0000, 0.0000, 0.0000, 0.0000,\n",
       "         0.3176, 0.9412, 0.9922, 0.9922, 0.4667, 0.0980, 0.0000, 0.0000, 0.0000,\n",
       "         0.0000, 0.0000, 0.0000, 0.0000, 0.0000, 0.0000, 0.0000, 0.0000, 0.0000,\n",
       "         0.0000, 0.0000, 0.0000, 0.0000, 0.0000, 0.0000, 0.0000, 0.0000, 0.0000,\n",
       "         0.0000, 0.0000, 0.1765, 0.7294, 0.9922, 0.9922, 0.5882, 0.1059, 0.0000,\n",
       "         0.0000, 0.0000, 0.0000, 0.0000, 0.0000, 0.0000, 0.0000, 0.0000, 0.0000,\n",
       "         0.0000, 0.0000, 0.0000, 0.0000, 0.0000, 0.0000, 0.0000, 0.0000, 0.0000,\n",
       "         0.0000, 0.0000, 0.0000, 0.0000, 0.0627, 0.3647, 0.9882, 0.9922, 0.7333,\n",
       "         0.0000, 0.0000, 0.0000, 0.0000, 0.0000, 0.0000, 0.0000, 0.0000, 0.0000,\n",
       "         0.0000, 0.0000, 0.0000, 0.0000, 0.0000, 0.0000, 0.0000, 0.0000, 0.0000,\n",
       "         0.0000, 0.0000, 0.0000, 0.0000, 0.0000, 0.0000, 0.0000, 0.9765, 0.9922,\n",
       "         0.9765, 0.2510, 0.0000, 0.0000, 0.0000, 0.0000, 0.0000, 0.0000, 0.0000,\n",
       "         0.0000, 0.0000, 0.0000, 0.0000, 0.0000, 0.0000, 0.0000, 0.0000, 0.0000,\n",
       "         0.0000, 0.0000, 0.0000, 0.0000, 0.0000, 0.1804, 0.5098, 0.7176, 0.9922,\n",
       "         0.9922, 0.8118, 0.0078, 0.0000, 0.0000, 0.0000, 0.0000, 0.0000, 0.0000,\n",
       "         0.0000, 0.0000, 0.0000, 0.0000, 0.0000, 0.0000, 0.0000, 0.0000, 0.0000,\n",
       "         0.0000, 0.0000, 0.0000, 0.0000, 0.1529, 0.5804, 0.8980, 0.9922, 0.9922,\n",
       "         0.9922, 0.9804, 0.7137, 0.0000, 0.0000, 0.0000, 0.0000, 0.0000, 0.0000,\n",
       "         0.0000, 0.0000, 0.0000, 0.0000, 0.0000, 0.0000, 0.0000, 0.0000, 0.0000,\n",
       "         0.0000, 0.0000, 0.0000, 0.0941, 0.4471, 0.8667, 0.9922, 0.9922, 0.9922,\n",
       "         0.9922, 0.7882, 0.3059, 0.0000, 0.0000, 0.0000, 0.0000, 0.0000, 0.0000,\n",
       "         0.0000, 0.0000, 0.0000, 0.0000, 0.0000, 0.0000, 0.0000, 0.0000, 0.0000,\n",
       "         0.0000, 0.0000, 0.0902, 0.2588, 0.8353, 0.9922, 0.9922, 0.9922, 0.9922,\n",
       "         0.7765, 0.3176, 0.0078, 0.0000, 0.0000, 0.0000, 0.0000, 0.0000, 0.0000,\n",
       "         0.0000, 0.0000, 0.0000, 0.0000, 0.0000, 0.0000, 0.0000, 0.0000, 0.0000,\n",
       "         0.0000, 0.0706, 0.6706, 0.8588, 0.9922, 0.9922, 0.9922, 0.9922, 0.7647,\n",
       "         0.3137, 0.0353, 0.0000, 0.0000, 0.0000, 0.0000, 0.0000, 0.0000, 0.0000,\n",
       "         0.0000, 0.0000, 0.0000, 0.0000, 0.0000, 0.0000, 0.0000, 0.0000, 0.0000,\n",
       "         0.2157, 0.6745, 0.8863, 0.9922, 0.9922, 0.9922, 0.9922, 0.9569, 0.5216,\n",
       "         0.0431, 0.0000, 0.0000, 0.0000, 0.0000, 0.0000, 0.0000, 0.0000, 0.0000,\n",
       "         0.0000, 0.0000, 0.0000, 0.0000, 0.0000, 0.0000, 0.0000, 0.0000, 0.0000,\n",
       "         0.0000, 0.5333, 0.9922, 0.9922, 0.9922, 0.8314, 0.5294, 0.5176, 0.0627,\n",
       "         0.0000, 0.0000, 0.0000, 0.0000, 0.0000, 0.0000, 0.0000, 0.0000, 0.0000,\n",
       "         0.0000, 0.0000, 0.0000, 0.0000, 0.0000, 0.0000, 0.0000, 0.0000, 0.0000,\n",
       "         0.0000, 0.0000, 0.0000, 0.0000, 0.0000, 0.0000, 0.0000, 0.0000, 0.0000,\n",
       "         0.0000, 0.0000, 0.0000, 0.0000, 0.0000, 0.0000, 0.0000, 0.0000, 0.0000,\n",
       "         0.0000, 0.0000, 0.0000, 0.0000, 0.0000, 0.0000, 0.0000, 0.0000, 0.0000,\n",
       "         0.0000, 0.0000, 0.0000, 0.0000, 0.0000, 0.0000, 0.0000, 0.0000, 0.0000,\n",
       "         0.0000, 0.0000, 0.0000, 0.0000, 0.0000, 0.0000, 0.0000, 0.0000, 0.0000,\n",
       "         0.0000, 0.0000, 0.0000, 0.0000, 0.0000, 0.0000, 0.0000, 0.0000, 0.0000,\n",
       "         0.0000, 0.0000, 0.0000, 0.0000, 0.0000, 0.0000, 0.0000, 0.0000, 0.0000,\n",
       "         0.0000, 0.0000, 0.0000, 0.0000, 0.0000, 0.0000, 0.0000, 0.0000, 0.0000,\n",
       "         0.0000, 0.0000, 0.0000, 0.0000, 0.0000, 0.0000, 0.0000, 0.0000, 0.0000,\n",
       "         0.0000]),\n",
       " 5)"
      ]
     },
     "execution_count": 27,
     "metadata": {},
     "output_type": "execute_result"
    }
   ],
   "source": [
    "train_dataset[0]"
   ]
  },
  {
   "cell_type": "markdown",
   "metadata": {},
   "source": [
    "### Train-Validierungs-Test Split\n",
    "\n",
    "Wie in der vorherigen Einheit erklärt, nehmen wir einen Teil der Trainingsdaten raus um unser Modell während des Trainingsprozesses validieren zu können.\n",
    "\n",
    "Erst wenn wir uns sicher sind, dass das Modell gut ist können wir die Testdaten nutzen."
   ]
  },
  {
   "cell_type": "code",
   "execution_count": 31,
   "metadata": {},
   "outputs": [],
   "source": [
    "\"\"\"\n",
    "TODO: Passe einen Parameter an sodass der Validierungsdatensatz\n",
    "20% der Trainingsdaten beinhaltet\n",
    "\"\"\"\n",
    "\n",
    "train_dataset, val_dataset = train_test_split(\n",
    "    train_dataset, \n",
    "    test_size=0.2, #TODO\n",
    "    random_state=42\n",
    ")"
   ]
  },
  {
   "cell_type": "code",
   "execution_count": 32,
   "metadata": {},
   "outputs": [
    {
     "data": {
      "text/plain": [
       "38400"
      ]
     },
     "execution_count": 32,
     "metadata": {},
     "output_type": "execute_result"
    }
   ],
   "source": [
    "len(train_dataset)"
   ]
  },
  {
   "cell_type": "markdown",
   "metadata": {},
   "source": [
    "### Laden der Daten\n",
    "\n",
    "Da wir mehrere tausend Bilder haben und diese nicht auf ein mal in den Speicher und erst recht nicht in die Grafikkarte geladen bekommen, müssen wir kleinere Subdatensätze laden (sogenannte Batches).\n",
    "\n",
    "Zum Glück gibts dafür natürlich eine Funktion :-) \n",
    "\n",
    "Die `batch_size` gibt dabei an wie viele Bilder zeitgleich geladen werden."
   ]
  },
  {
   "cell_type": "code",
   "execution_count": 33,
   "metadata": {},
   "outputs": [],
   "source": [
    "# lade 64 Bilder auf ein mal\n",
    "batch_size = 64\n",
    "\n",
    "# train loader ist randomisiert (shuffle = True), damit die Daten jedes mal in einer anderen Reihenfolge kommen\n",
    "train_loader = torch.utils.data.DataLoader(dataset=train_dataset, batch_size=batch_size, shuffle=True)\n",
    "\n",
    "# für Validierungs und Testdaten benötigen wir das aber nicht\n",
    "val_loader = torch.utils.data.DataLoader(dataset=val_dataset, batch_size=batch_size, shuffle=False)\n",
    "test_loader = torch.utils.data.DataLoader(dataset=test_dataset, batch_size=batch_size, shuffle=False)\n"
   ]
  },
  {
   "cell_type": "markdown",
   "metadata": {},
   "source": [
    "### Definition des Netzwerkes\n",
    "\n",
    "Das Netzwerk zu definieren ist recht simpel und funktioniert mit folgender Syntax:\n",
    "\n",
    "```python\n",
    "model = nn.Sequential(\n",
    "    nn.Linear(number_input_features, number_output_features),\n",
    "    nn.ReLU(),      # Aktivierungsfunktion - ReLU setzt alle negativen Werte auf null\n",
    "    nn.Linear(...),\n",
    "    nn.ReLU(),\n",
    "    ...\n",
    "    nn.ReLU(),\n",
    "    nn.Linear(...)\n",
    ")\n",
    "```\n",
    "\n",
    "Paar Sachen die es zu beachten gibt:\n",
    "- Die erste Schicht sollte 784 Eingabewerte erhalten (größe unserer Bilder)\n",
    "- Letzte Schicht sollte 10 Ausgabewerte haben\n",
    "- Zwischen jeder Schicht sollte eine Aktivierungsfunktion stehen\n",
    "- Anzahl der Ausgabewerte der aktuellen Schicht muss mit Anzahl der Eingabewerte der folgenden übereinstimmen"
   ]
  },
  {
   "cell_type": "code",
   "execution_count": 83,
   "metadata": {},
   "outputs": [
    {
     "name": "stdout",
     "output_type": "stream",
     "text": [
      "Number of parameters: 694110\n"
     ]
    }
   ],
   "source": [
    "model = nn.Sequential(\n",
    "        # TODO: definiere dein Netzwerk\n",
    "        nn.Linear(784, 500),\n",
    "        nn.ReLU(),\n",
    "        nn.Linear(500, 500),\n",
    "        nn.ReLU(),\n",
    "        nn.Linear(500,100),\n",
    "        nn.ReLU(),\n",
    "        nn.Linear(100,10)\n",
    "    )\n",
    "# schiebe das Netzwerk auf die Grafikkarte\n",
    "model.to(device)\n",
    "\n",
    "# Berechne Anzahl der Parameter\n",
    "print(\"Number of parameters:\", sum(p.numel() for p in model.parameters() if p.requires_grad))"
   ]
  },
  {
   "cell_type": "markdown",
   "metadata": {},
   "source": [
    "### Optimierung von Parametern\n",
    "\n",
    "Bevor wir versuchen zu verstehen wie Neuronale Netzwerke sich optimieren lass uns versuchen geeignete Parameter für eine einfache lineare Funktion für folgende Daten zu finden:\n",
    "\n",
    "Wir haben eine Verlustfunktion (Loss), welche uns einen Fehlermaß angibt.\n",
    "\n",
    "Versuche hier den Anstieg und Achsenschnittpunkt so zu wählen dass der Fehler minimal wird."
   ]
  },
  {
   "cell_type": "code",
   "execution_count": 84,
   "metadata": {},
   "outputs": [
    {
     "data": {
      "image/png": "[encoded data removed]",
      "text/plain": [
       "<Figure size 640x480 with 1 Axes>"
      ]
     },
     "metadata": {},
     "output_type": "display_data"
    },
    {
     "name": "stdout",
     "output_type": "stream",
     "text": [
      "Loss: 475.5\n"
     ]
    }
   ],
   "source": [
    "import numpy as np\n",
    "from numpy.polynomial.polynomial import polyfit\n",
    "import matplotlib.pyplot as plt\n",
    "\n",
    "m = -2  # -2 am Anfang, ändere mich \n",
    "b = 40  # 40 am Anfang, ändere mich\n",
    "\n",
    "# Sample data\n",
    "x = np.array([ 0,  1,  2,  3,  4,  5,  6,  7,  8,  9])\n",
    "y = np.array([10, 20, 25, 30, 40, 45, 40, 50, 60, 55])\n",
    "y_hat = x * m + b\n",
    "\n",
    "plt.plot(x, y, '.')\n",
    "plt.plot(x, y_hat, '-')\n",
    "plt.show()\n",
    "\n",
    "print(\"Loss:\", np.sum((y - y_hat)**2)/len(x))"
   ]
  },
  {
   "cell_type": "markdown",
   "metadata": {},
   "source": [
    "### Optimierung: Gradient Descent\n",
    "\n",
    "Neuronale Netzwerke werden mit einer Menge Mathe-Magie optimiert.\n",
    "- Wir haben eine Funktion die uns den Fehler angibt \n",
    "- Mittels Ableitungen können wir herausfinden in welche Richtung wir das Modell optimieren müssen um den Fehler zu minimieren\n",
    "\n",
    "- Man kann es sich vorstellen als würde man auf einem Hügel stehen\n",
    "- Mit dem Fuß ertastet man die steilste Richtung nach unten\n",
    "- Und macht einen kleinen Schritt in dessen Richtung (`learning_rate` bestimmt die Schrittgröße)\n",
    "    - Ist sie zu klein dauert es lange das Modell zu trainieren\n",
    "    - Ist sie zu groß explodiert aber der Gradient! \n",
    "        - Wenn wir nach dem Schritt weiter vom Minimum weg sind als zuvor machen wir im Anschluss einen noch größeren Schritt\n",
    "        - Das schaukelt sich sehr schnell richtung unendlich hoch\n",
    "\n",
    "![](_img/04_gradient_descent.jpg)"
   ]
  },
  {
   "cell_type": "code",
   "execution_count": 85,
   "metadata": {},
   "outputs": [],
   "source": [
    "# Schrittgröße\n",
    "learning_rate = 0.0001\n",
    "# Fehlerfunktion\n",
    "criterion = nn.CrossEntropyLoss()\n",
    "# Optimierungsalgorithmus \n",
    "optimizer = torch.optim.Adam(model.parameters(), lr=learning_rate)"
   ]
  },
  {
   "cell_type": "markdown",
   "metadata": {},
   "source": [
    "### Trainingspipeline\n",
    "\n",
    "Im Training verbinden wir jetzt alles zusammen.\n",
    "\n",
    "- Wir laden nacheinander Daten\n",
    "- Lassen unser Modell eine Vorhersage treffen\n",
    "- Berechnen die Verlustfunktion\n",
    "- Berechnen in welche Richtung wir die Parameter anpassen müssen damit wir besser werden\n",
    "- Und aktualisieren die Parameter"
   ]
  },
  {
   "cell_type": "code",
   "execution_count": 86,
   "metadata": {},
   "outputs": [],
   "source": [
    "def train(model,train_loader,optimizer):\n",
    "    correct = 0\n",
    "    total = 0\n",
    "    for i, (images, labels) in enumerate(train_loader):\n",
    "        # schiebe einagbe und lösung auf GPU\n",
    "        images = images.to(device)\n",
    "        labels = labels.to(device)\n",
    "\n",
    "        # vorhersage treffen\n",
    "        outputs = model(images)\n",
    "        # berechne den Fehler\n",
    "        loss = criterion(outputs, labels)\n",
    "        # setze die Gradienten zurück (Ableitung)\n",
    "        optimizer.zero_grad()\n",
    "        # Berechne die Ableitung\n",
    "        loss.backward()\n",
    "        # Aktualisiere die Parameter\n",
    "        optimizer.step()\n",
    "\n",
    "        # Hier wird die Genauigkeit ermittelt\n",
    "        # Finde heraus was die wahrscheinlichste Klasse war laut Modell\n",
    "        _, predicted = torch.max(outputs.data, 1)\n",
    "        total += labels.size(0)\n",
    "        # berechne wie viele im aktuellen Batch korrekt waren\n",
    "        correct += (predicted == labels).sum().item()\n",
    "\n",
    "    accuracy = (100 * correct / total)\n",
    "\n",
    "    return loss.item(), accuracy"
   ]
  },
  {
   "cell_type": "code",
   "execution_count": 87,
   "metadata": {},
   "outputs": [],
   "source": [
    "# Berechne Genauigkeit für Validierungssatz\n",
    "def validate(model,val_loader):\n",
    "  # schalte Gradientenberechnung aus\n",
    "  with torch.no_grad():\n",
    "      correct = 0\n",
    "      total = 0\n",
    "      for images, labels in val_loader:\n",
    "          images = images.to(device)\n",
    "          labels = labels.to(device)\n",
    "\n",
    "          # Forward pass\n",
    "          outputs = model(images)\n",
    "          loss = criterion(outputs, labels)\n",
    "          _, predicted = torch.max(outputs.data, 1)\n",
    "          total += labels.size(0)\n",
    "          correct += (predicted == labels).sum().item()\n",
    "\n",
    "      accuracy = (100 * correct / total)\n",
    "  return loss.item(),accuracy"
   ]
  },
  {
   "cell_type": "markdown",
   "metadata": {},
   "source": [
    "### Alles zusammen\n",
    "\n",
    "- Wir werden jetzt abwechseln trainieren und validieren\n",
    "- Dabei das beste Modell auf den Validierungsdaten speichern\n",
    "- Wir speichern zudem den Verlauf der Genauigkeit und des Fehlers für Training und Validierungsdaten\n",
    "\n",
    "---\n",
    "- Neue Variable: **Epoche**\n",
    "- **Epoche** bezeichnet einen kompletten Durchlauf durch alle Trainingsdaten\n",
    "- Erinnerung: wir schauen uns immer auf ein mal 64 von unseren knapp 40.000 Trainingsdaten an\n",
    "- Die Epoche ist vorbei sobald alle 40.000 Trainingspunkte ein mal gesehen wurden"
   ]
  },
  {
   "cell_type": "code",
   "execution_count": 88,
   "metadata": {},
   "outputs": [
    {
     "name": "stdout",
     "output_type": "stream",
     "text": [
      "Epoch [1/25], train Loss: 0.1599, train acc: 81.0078, val Loss: 0.2012 , val acc: 91.6667\n",
      "Epoch [2/25], train Loss: 0.1946, train acc: 91.7370, val Loss: 0.1434 , val acc: 93.4792\n",
      "Epoch [3/25], train Loss: 0.0480, train acc: 93.5078, val Loss: 0.1375 , val acc: 94.2500\n",
      "Epoch [4/25], train Loss: 0.2097, train acc: 94.6719, val Loss: 0.0907 , val acc: 94.9583\n",
      "Epoch [5/25], train Loss: 0.0611, train acc: 95.5469, val Loss: 0.0874 , val acc: 95.6042\n",
      "Epoch [6/25], train Loss: 0.1759, train acc: 96.2214, val Loss: 0.0932 , val acc: 96.1771\n",
      "Epoch [7/25], train Loss: 0.1426, train acc: 96.7734, val Loss: 0.0836 , val acc: 96.3750\n",
      "Epoch [8/25], train Loss: 0.1670, train acc: 97.1484, val Loss: 0.0551 , val acc: 96.6458\n",
      "Epoch [9/25], train Loss: 0.0858, train acc: 97.6042, val Loss: 0.0734 , val acc: 96.6250\n",
      "Epoch [10/25], train Loss: 0.0805, train acc: 97.9401, val Loss: 0.0615 , val acc: 96.9271\n",
      "Epoch [11/25], train Loss: 0.1255, train acc: 98.2083, val Loss: 0.0411 , val acc: 97.0000\n",
      "Epoch [12/25], train Loss: 0.0216, train acc: 98.4635, val Loss: 0.0633 , val acc: 97.0938\n",
      "Epoch [13/25], train Loss: 0.0208, train acc: 98.6901, val Loss: 0.0748 , val acc: 97.2396\n",
      "Epoch [14/25], train Loss: 0.1128, train acc: 98.8411, val Loss: 0.0914 , val acc: 97.1979\n",
      "Epoch [15/25], train Loss: 0.0176, train acc: 99.0026, val Loss: 0.0312 , val acc: 97.3854\n",
      "Epoch [16/25], train Loss: 0.0051, train acc: 99.1719, val Loss: 0.0189 , val acc: 97.3229\n",
      "Epoch [17/25], train Loss: 0.0138, train acc: 99.3646, val Loss: 0.0346 , val acc: 97.4896\n",
      "Epoch [18/25], train Loss: 0.0060, train acc: 99.4531, val Loss: 0.0201 , val acc: 97.1250\n",
      "Epoch [19/25], train Loss: 0.0169, train acc: 99.5000, val Loss: 0.0350 , val acc: 97.4583\n",
      "Epoch [20/25], train Loss: 0.0010, train acc: 99.6354, val Loss: 0.0234 , val acc: 97.5729\n",
      "Epoch [21/25], train Loss: 0.0046, train acc: 99.7370, val Loss: 0.0156 , val acc: 97.4583\n",
      "Epoch [22/25], train Loss: 0.0027, train acc: 99.7031, val Loss: 0.0379 , val acc: 97.3646\n",
      "Epoch [23/25], train Loss: 0.0440, train acc: 99.8281, val Loss: 0.0397 , val acc: 97.3646\n",
      "Epoch [24/25], train Loss: 0.0097, train acc: 99.8464, val Loss: 0.0158 , val acc: 97.5000\n",
      "Epoch [25/25], train Loss: 0.0015, train acc: 99.9036, val Loss: 0.0159 , val acc: 97.4167\n"
     ]
    }
   ],
   "source": [
    "# Wie oft wir den kompletten Traingsdatensatz durchlaufen wollen\n",
    "num_epochs = 25\n",
    "\n",
    "# Listen zum Speichern der Genauigkeits und Fehlerverläufe \n",
    "T_loss= []\n",
    "v_loss =[]\n",
    "T_acc = []\n",
    "v_acc = []\n",
    "\n",
    "# zum Erkennen der besten Epoche: \n",
    "# setze den besten Validierungsfehler auf unendlich\n",
    "best_val_loss = np.inf\n",
    "best_model = model \n",
    "\n",
    "# Trainings-Schleife\n",
    "for epoch in range(num_epochs):\n",
    "\n",
    "  # Trainiere das Modell und lass Fehler und Genauigkeit ausgeben\n",
    "  train_loss, train_acc = train(model, train_loader, optimizer)\n",
    "  # Berechne Fehler und Genauigkeit auf Validierungsdaten\n",
    "  val_loss, val_acc = validate(model, val_loader)\n",
    "\n",
    "  # Schreibe aktuellen Stand\n",
    "  print (f'Epoch [{epoch+1}/{num_epochs}], train Loss: {train_loss:.4f}, train acc: {train_acc:.4f}, val Loss: {val_loss:.4f} , val acc: {val_acc:.4f}')\n",
    "  \n",
    "  # speichere die Werte ab\n",
    "  T_loss.append(train_loss)\n",
    "  v_loss.append(val_loss)\n",
    "  T_acc.append(train_acc)\n",
    "  v_acc.append(val_acc)\n",
    "\n",
    "  # Check ob Modell sich verbessert hat\n",
    "  if val_loss < best_val_loss:\n",
    "    # wenn verbessert: speichere das beste Modell\n",
    "    best_model = model"
   ]
  },
  {
   "cell_type": "markdown",
   "metadata": {},
   "source": [
    "### Plotten des Verlaufs"
   ]
  },
  {
   "cell_type": "code",
   "execution_count": 89,
   "metadata": {},
   "outputs": [
    {
     "data": {
      "image/png": "[encoded data removed]",
      "text/plain": [
       "<Figure size 1600x800 with 2 Axes>"
      ]
     },
     "metadata": {},
     "output_type": "display_data"
    }
   ],
   "source": [
    "epochs = [i for i in range(len(T_loss))]\n",
    "\n",
    "fig, ax = plt.subplots(ncols = 2, figsize=(16,8))\n",
    "\n",
    "# Zeichne Verlust von Training und Validierung\n",
    "ax[0].plot(epochs, T_loss, label='Train loss')\n",
    "ax[0].plot(epochs, v_loss, label='Validation loss')\n",
    "ax[0].set_title('Loss plot')\n",
    "\n",
    "# Zeichne Genauigkeit auf zweitem Bild\n",
    "ax[1].plot(epochs, T_acc, label='Train Accuracy')\n",
    "ax[1].plot(epochs, v_acc, label='Validation Accuracy')\n",
    "ax[1].set_title('Accuracy Plot')\n",
    "\n",
    "# Beschriftung\n",
    "for _ax in ax:\n",
    "    _ax.set_xlabel('Epoch')\n",
    "    _ax.set_ylabel('Loss')\n",
    "    _ax.legend()\n",
    "    _ax.grid()"
   ]
  },
  {
   "cell_type": "markdown",
   "metadata": {},
   "source": [
    "# Plotten der Vorhersagen"
   ]
  },
  {
   "cell_type": "code",
   "execution_count": 90,
   "metadata": {},
   "outputs": [],
   "source": [
    "def show_predictions(data_loader, model=best_model, num_samples=10):\n",
    "    data_iter = iter(data_loader)\n",
    "    images, labels = next(data_iter)\n",
    "    _, preds = torch.max(model(images.to(device)), 1)\n",
    "    fig, axes = plt.subplots(1, num_samples, figsize=(15, 3))\n",
    "\n",
    "    for i in range(num_samples):\n",
    "        ax = axes[i]\n",
    "        ax.imshow(images[i].cpu().numpy().squeeze().reshape(28,28), cmap='gray')\n",
    "        ax.set_title(f\"label: {labels[i]}\\npred: {preds[i].cpu()}\")\n",
    "        ax.axis('off')\n",
    "\n",
    "    plt.show()"
   ]
  },
  {
   "cell_type": "code",
   "execution_count": 91,
   "metadata": {},
   "outputs": [
    {
     "data": {
      "image/png": "[encoded data removed]",
      "text/plain": [
       "<Figure size 1500x300 with 10 Axes>"
      ]
     },
     "metadata": {},
     "output_type": "display_data"
    }
   ],
   "source": [
    "show_predictions(train_loader)"
   ]
  },
  {
   "cell_type": "markdown",
   "metadata": {},
   "source": [
    "Zum Schluss dürften wir jetzt auch den Testdatensatz evaluieren :-) "
   ]
  },
  {
   "cell_type": "code",
   "execution_count": 92,
   "metadata": {},
   "outputs": [
    {
     "data": {
      "text/plain": [
       "(4.554492625175044e-05, 97.53)"
      ]
     },
     "execution_count": 92,
     "metadata": {},
     "output_type": "execute_result"
    }
   ],
   "source": [
    "validate(best_model, test_loader)"
   ]
  },
  {
   "cell_type": "markdown",
   "metadata": {},
   "source": [
    "# Glückwunsch! \n",
    "\n",
    "Du hast gerade dein erstes Neuronales Netzwerk trainiert und es ist nahezu perfekt im erkennen handgeschriebener Ziffern! "
   ]
  },
  {
   "cell_type": "markdown",
   "metadata": {},
   "source": [
    "# Linksammlung\n",
    "\n",
    "Klick auf einen der Links um in die jeweiligen Notebooks zu wechseln\n",
    "\n",
    "1. [Basics Notebook](https://colab.research.google.com/github/aleks-krasowski/femtec_ml_workshop/blob/main/notebooks/01_basics.ipynb)\n",
    "2. [EDA Notebook](https://colab.research.google.com/github/aleks-krasowski/femtec_ml_workshop/blob/main/notebooks/02_exploratory_data_analysis.ipynb)\n",
    "3. [ML Notebook](https://colab.research.google.com/github/aleks-krasowski/femtec_ml_workshop/blob/main/notebooks/03_conventional_ml.ipynb)\n",
    "4. [DL Notebook](https://colab.research.google.com/github/aleks-krasowski/femtec_ml_workshop/blob/main/notebooks/04_deep_learning.ipynb)"
   ]
  }
 ],
 "metadata": {
  "kernelspec": {
   "display_name": "Python 3 (ipykernel)",
   "language": "python",
   "name": "python3"
  },
  "language_info": {
   "codemirror_mode": {
    "name": "ipython",
    "version": 3
   },
   "file_extension": ".py",
   "mimetype": "text/x-python",
   "name": "python",
   "nbconvert_exporter": "python",
   "pygments_lexer": "ipython3",
   "version": "3.12.3"
  }
 },
 "nbformat": 4,
 "nbformat_minor": 4
}
