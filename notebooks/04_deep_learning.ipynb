{
 "cells": [
  {
   "cell_type": "markdown",
   "metadata": {},
   "source": [
    "# Deep Learning\n",
    "\n",
    "Deep Learning ist selbst eine Unterkategorie vom Machine Learning. \n",
    "\n",
    "Großer Unterschied:\n",
    "- Wir legen keine Features/Variablen fest\n",
    "- Klassisches ML benötigt viel Vorarbeit\n",
    "    - Welche Variablen wollen wir extrahieren/messen?\n",
    "    - Wie können wir sie (automatisch?) entnehmen\n",
    "    - Oft sind Domänenexperten (bspw. Arzt für medizinische Modelle) notwendig\n",
    "    - Heißt meistens teuer + limitiert durch die Auswahl an Features\n",
    "- Deep Learning arbeitet mit der Annahme, dass das Modell komplex genug ist selber Zusammenhänge in den Daten zu finden\n",
    "- Potentiell auch solche, an die man niemals denken würde\n",
    "\n",
    "Bringt aber auch einen großen Nachteil mit sich mit:\n",
    "- Durch die Komplexität sind die Modelle sogenannte _Black-Boxes_\n",
    "- Heißt es ist sehr schwierig herauszufinden _wieso_ das Modell zu seiner Entscheidung kam"
   ]
  },
  {
   "cell_type": "markdown",
   "metadata": {},
   "source": [
    "## Deep Learning mit Python\n",
    "\n",
    "In Python gibt es zwei populäre Deep Learning Libraries.\n",
    "\n",
    "### Tensorflow\n",
    "\n",
    "- **Entwickler**: Google Brain \n",
    "- `tf.keras` bietet eine High-Level API an\n",
    "    - Viele Vorimplementierte Quality-of-Life Funktionalitäten\n",
    "    - Low-Level Zugriff ist recht schwierig\n",
    "- Vorteil: einfache Handhabung\n",
    "- Nachteil: schwierigeres Debugging + Manipulation von Funktionalitäten\n",
    "\n",
    "### PyTorch\n",
    "\n",
    "- **Entwickler**: Facebook's AI Reserarch Lab (FAIR) - Jetzt Pytorch Foundation\n",
    "- Guter Low-Level Zugriff\n",
    "- Etwas komplexer zu erlernen aber finde ich persönlich mächtiger\n",
    "- Immer stärker verbreitet, insbesondere in der Wissenschaft"
   ]
  },
  {
   "cell_type": "markdown",
   "metadata": {},
   "source": [
    "![](_img/04_tensorflow_vs_pytorch.png)"
   ]
  },
  {
   "cell_type": "code",
   "execution_count": 1,
   "metadata": {},
   "outputs": [],
   "source": [
    "import matplotlib.pyplot as plt\n",
    "import numpy as np\n",
    "import torch\n",
    "import torch.nn as nn\n",
    "import torchvision\n",
    "import torchvision.transforms as transforms\n",
    "from sklearn.metrics import accuracy_score, confusion_matrix, ConfusionMatrixDisplay\n",
    "from sklearn.model_selection import train_test_split"
   ]
  },
  {
   "cell_type": "markdown",
   "metadata": {},
   "source": [
    "## Datensatz Pipeline\n",
    "\n",
    "Wir müssen die Daten etwas aufwendigerer vorbereiten als letztes mal damit sie gut mit dem Netzwerk funktionieren und unsere Grafikkarte nicht überfordern."
   ]
  },
  {
   "cell_type": "markdown",
   "metadata": {},
   "source": [
    "Wir können auf die Programmierschnittstelle für NVIDIA Grafikkarten zugreifen um effizienter zu trainieren.\n",
    "\n",
    "Hier deklarieren wir ob wir auf der Grafikkarte arbeiten möchten (sofern verfügbar) oder auf dem Prozessor."
   ]
  },
  {
   "cell_type": "code",
   "execution_count": 2,
   "metadata": {},
   "outputs": [
    {
     "data": {
      "text/plain": [
       "device(type='cpu')"
      ]
     },
     "execution_count": 2,
     "metadata": {},
     "output_type": "execute_result"
    }
   ],
   "source": [
    "device = torch.device('cuda' if torch.cuda.is_available() else 'cpu')\n",
    "device"
   ]
  },
  {
   "cell_type": "markdown",
   "metadata": {},
   "source": [
    "### Laden der Trainings und Testdatensätze\n",
    "\n",
    "PyTorch hat ähnlich wie `sklearn` Funktionen zum einfachen herunterladen bekannter Datensätze."
   ]
  },
  {
   "cell_type": "code",
   "execution_count": 3,
   "metadata": {},
   "outputs": [],
   "source": [
    "train_dataset = torchvision.datasets.MNIST(root='./data',\n",
    "                                           train=True,\n",
    "                                           download=True)\n",
    "\n",
    "test_dataset = torchvision.datasets.MNIST(root='./data',\n",
    "                                          train=False,\n",
    "                                          download=True)"
   ]
  },
  {
   "cell_type": "markdown",
   "metadata": {},
   "source": [
    "### Inspektion der Daten\n",
    "\n",
    "Lasst uns die Daten anschauen!\n",
    "\n",
    "Mit `train_dataset[i]` können wir uns das `i`-te Element des Datensatzes anschauen.\n",
    "\n",
    "Jedes Element beinhaltet:\n",
    "- Das Bild der handgeschriebenen Zahl (28x28 pixel)\n",
    "- Die jeweilige Klasse (`[0,1,2,3,4,5,6,7,8,9]`)"
   ]
  },
  {
   "cell_type": "code",
   "execution_count": 4,
   "metadata": {},
   "outputs": [
    {
     "data": {
      "text/plain": [
       "(<PIL.Image.Image image mode=L size=28x28>, 5)"
      ]
     },
     "execution_count": 4,
     "metadata": {},
     "output_type": "execute_result"
    }
   ],
   "source": [
    "train_dataset[0]"
   ]
  },
  {
   "cell_type": "code",
   "execution_count": 5,
   "metadata": {},
   "outputs": [
    {
     "data": {
      "image/jpeg": "[encoded data removed]",
      "image/png": "[encoded data removed]",
      "text/plain": [
       "<PIL.Image.Image image mode=L size=28x28>"
      ]
     },
     "execution_count": 5,
     "metadata": {},
     "output_type": "execute_result"
    }
   ],
   "source": [
    "image, label = train_dataset[0]\n",
    "image"
   ]
  },
  {
   "cell_type": "code",
   "execution_count": 6,
   "metadata": {},
   "outputs": [
    {
     "data": {
      "text/plain": [
       "5"
      ]
     },
     "execution_count": 6,
     "metadata": {},
     "output_type": "execute_result"
    }
   ],
   "source": [
    "label"
   ]
  },
  {
   "cell_type": "markdown",
   "metadata": {},
   "source": [
    "### Aufbau eines Neuronalen Netzwerkes\n",
    "\n",
    "![](_img/04_neural_network_structure.png)\n",
    "\n",
    "Einfache Neuronale Netzwerke haben einen Schichtaufbau wobei jedes Neuron jeder Schicht mit jedem der nächsten Schicht verbunden ist. \n",
    "\n",
    "- Input Layer:\n",
    "    - Hier kommt unser Bild rein\n",
    "    - Jedes Neuron nimmt einen Pixelwert an\n",
    "- Hidden Layers:\n",
    "    - Hier passiert die Magie\n",
    "    - Das Neuronale Netzwerk verknüpft die Pixel miteinander und lernt Zusammenhänge\n",
    "- Output Layer:\n",
    "    - Hier wird die Vorhersage getan\n",
    "    - Jeder Neuron wird einer Klasse zugeordnet\n",
    "    - Je mehr ein Neuron hier feuert umso sicherer ist das Modell, dass das Bild der gegebenen Klasse angehört\n",
    "\n",
    "### _Flattening_ der Daten\n",
    "\n",
    "Beachte, dass alle Schichten eindimensional sind. \n",
    "Unsere Inputs sind aber 2-dimensionale Bilder. Heißt damit wir sie in das Netzwerk eingeben können müssen wir sie in einen Vektor umwandeln."
   ]
  },
  {
   "cell_type": "code",
   "execution_count": 7,
   "metadata": {},
   "outputs": [
    {
     "data": {
      "text/plain": [
       "tensor([[[  0,   0,   0,   0,   0,   0,   0,   0,   0,   0,   0,   0,   0,   0,\n",
       "            0,   0,   0,   0,   0,   0,   0,   0,   0,   0,   0,   0,   0,   0],\n",
       "         [  0,   0,   0,   0,   0,   0,   0,   0,   0,   0,   0,   0,   0,   0,\n",
       "            0,   0,   0,   0,   0,   0,   0,   0,   0,   0,   0,   0,   0,   0],\n",
       "         [  0,   0,   0,   0,   0,   0,   0,   0,   0,   0,   0,   0,   0,   0,\n",
       "            0,   0,   0,   0,   0,   0,   0,   0,   0,   0,   0,   0,   0,   0],\n",
       "         [  0,   0,   0,   0,   0,   0,   0,   0,   0,   0,   0,   0,   0,   0,\n",
       "            0,   0,   0,   0,   0,   0,   0,   0,   0,   0,   0,   0,   0,   0],\n",
       "         [  0,   0,   0,   0,   0,   0,   0,   0,   0,   0,   0,   0,   0,   0,\n",
       "            0,   0,   0,   0,   0,   0,   0,   0,   0,   0,   0,   0,   0,   0],\n",
       "         [  0,   0,   0,   0,   0,   0,   0,   0,   0,   0,   0,   0,   3,  18,\n",
       "           18,  18, 126, 136, 175,  26, 166, 255, 247, 127,   0,   0,   0,   0],\n",
       "         [  0,   0,   0,   0,   0,   0,   0,   0,  30,  36,  94, 154, 170, 253,\n",
       "          253, 253, 253, 253, 225, 172, 253, 242, 195,  64,   0,   0,   0,   0],\n",
       "         [  0,   0,   0,   0,   0,   0,   0,  49, 238, 253, 253, 253, 253, 253,\n",
       "          253, 253, 253, 251,  93,  82,  82,  56,  39,   0,   0,   0,   0,   0],\n",
       "         [  0,   0,   0,   0,   0,   0,   0,  18, 219, 253, 253, 253, 253, 253,\n",
       "          198, 182, 247, 241,   0,   0,   0,   0,   0,   0,   0,   0,   0,   0],\n",
       "         [  0,   0,   0,   0,   0,   0,   0,   0,  80, 156, 107, 253, 253, 205,\n",
       "           11,   0,  43, 154,   0,   0,   0,   0,   0,   0,   0,   0,   0,   0],\n",
       "         [  0,   0,   0,   0,   0,   0,   0,   0,   0,  14,   1, 154, 253,  90,\n",
       "            0,   0,   0,   0,   0,   0,   0,   0,   0,   0,   0,   0,   0,   0],\n",
       "         [  0,   0,   0,   0,   0,   0,   0,   0,   0,   0,   0, 139, 253, 190,\n",
       "            2,   0,   0,   0,   0,   0,   0,   0,   0,   0,   0,   0,   0,   0],\n",
       "         [  0,   0,   0,   0,   0,   0,   0,   0,   0,   0,   0,  11, 190, 253,\n",
       "           70,   0,   0,   0,   0,   0,   0,   0,   0,   0,   0,   0,   0,   0],\n",
       "         [  0,   0,   0,   0,   0,   0,   0,   0,   0,   0,   0,   0,  35, 241,\n",
       "          225, 160, 108,   1,   0,   0,   0,   0,   0,   0,   0,   0,   0,   0],\n",
       "         [  0,   0,   0,   0,   0,   0,   0,   0,   0,   0,   0,   0,   0,  81,\n",
       "          240, 253, 253, 119,  25,   0,   0,   0,   0,   0,   0,   0,   0,   0],\n",
       "         [  0,   0,   0,   0,   0,   0,   0,   0,   0,   0,   0,   0,   0,   0,\n",
       "           45, 186, 253, 253, 150,  27,   0,   0,   0,   0,   0,   0,   0,   0],\n",
       "         [  0,   0,   0,   0,   0,   0,   0,   0,   0,   0,   0,   0,   0,   0,\n",
       "            0,  16,  93, 252, 253, 187,   0,   0,   0,   0,   0,   0,   0,   0],\n",
       "         [  0,   0,   0,   0,   0,   0,   0,   0,   0,   0,   0,   0,   0,   0,\n",
       "            0,   0,   0, 249, 253, 249,  64,   0,   0,   0,   0,   0,   0,   0],\n",
       "         [  0,   0,   0,   0,   0,   0,   0,   0,   0,   0,   0,   0,   0,   0,\n",
       "           46, 130, 183, 253, 253, 207,   2,   0,   0,   0,   0,   0,   0,   0],\n",
       "         [  0,   0,   0,   0,   0,   0,   0,   0,   0,   0,   0,   0,  39, 148,\n",
       "          229, 253, 253, 253, 250, 182,   0,   0,   0,   0,   0,   0,   0,   0],\n",
       "         [  0,   0,   0,   0,   0,   0,   0,   0,   0,   0,  24, 114, 221, 253,\n",
       "          253, 253, 253, 201,  78,   0,   0,   0,   0,   0,   0,   0,   0,   0],\n",
       "         [  0,   0,   0,   0,   0,   0,   0,   0,  23,  66, 213, 253, 253, 253,\n",
       "          253, 198,  81,   2,   0,   0,   0,   0,   0,   0,   0,   0,   0,   0],\n",
       "         [  0,   0,   0,   0,   0,   0,  18, 171, 219, 253, 253, 253, 253, 195,\n",
       "           80,   9,   0,   0,   0,   0,   0,   0,   0,   0,   0,   0,   0,   0],\n",
       "         [  0,   0,   0,   0,  55, 172, 226, 253, 253, 253, 253, 244, 133,  11,\n",
       "            0,   0,   0,   0,   0,   0,   0,   0,   0,   0,   0,   0,   0,   0],\n",
       "         [  0,   0,   0,   0, 136, 253, 253, 253, 212, 135, 132,  16,   0,   0,\n",
       "            0,   0,   0,   0,   0,   0,   0,   0,   0,   0,   0,   0,   0,   0],\n",
       "         [  0,   0,   0,   0,   0,   0,   0,   0,   0,   0,   0,   0,   0,   0,\n",
       "            0,   0,   0,   0,   0,   0,   0,   0,   0,   0,   0,   0,   0,   0],\n",
       "         [  0,   0,   0,   0,   0,   0,   0,   0,   0,   0,   0,   0,   0,   0,\n",
       "            0,   0,   0,   0,   0,   0,   0,   0,   0,   0,   0,   0,   0,   0],\n",
       "         [  0,   0,   0,   0,   0,   0,   0,   0,   0,   0,   0,   0,   0,   0,\n",
       "            0,   0,   0,   0,   0,   0,   0,   0,   0,   0,   0,   0,   0,   0]]],\n",
       "       dtype=torch.uint8)"
      ]
     },
     "execution_count": 7,
     "metadata": {},
     "output_type": "execute_result"
    }
   ],
   "source": [
    "# Verwandle Bild Objekt in ein Objekt welches das Modell annehmen kann\n",
    "image = torchvision.transforms.functional.pil_to_tensor(image)\n",
    "image"
   ]
  },
  {
   "cell_type": "markdown",
   "metadata": {},
   "source": [
    "Das Bild beinhaltet Pixelwerte für jede Zeile und Spalte. \n",
    "\n",
    "Mit `image.shape` können wir uns die Dimensionen anzeigen lassen."
   ]
  },
  {
   "cell_type": "code",
   "execution_count": 8,
   "metadata": {},
   "outputs": [
    {
     "data": {
      "text/plain": [
       "torch.Size([1, 28, 28])"
      ]
     },
     "execution_count": 8,
     "metadata": {},
     "output_type": "execute_result"
    }
   ],
   "source": [
    "image.shape"
   ]
  },
  {
   "cell_type": "code",
   "execution_count": 9,
   "metadata": {},
   "outputs": [
    {
     "data": {
      "text/plain": [
       "tensor([  0,   0,   0,   0,   0,   0,   0,   0,   0,   0,   0,   0,   0,   0,\n",
       "          0,   0,   0,   0,   0,   0,   0,   0,   0,   0,   0,   0,   0,   0,\n",
       "          0,   0,   0,   0,   0,   0,   0,   0,   0,   0,   0,   0,   0,   0,\n",
       "          0,   0,   0,   0,   0,   0,   0,   0,   0,   0,   0,   0,   0,   0,\n",
       "          0,   0,   0,   0,   0,   0,   0,   0,   0,   0,   0,   0,   0,   0,\n",
       "          0,   0,   0,   0,   0,   0,   0,   0,   0,   0,   0,   0,   0,   0,\n",
       "          0,   0,   0,   0,   0,   0,   0,   0,   0,   0,   0,   0,   0,   0,\n",
       "          0,   0,   0,   0,   0,   0,   0,   0,   0,   0,   0,   0,   0,   0,\n",
       "          0,   0,   0,   0,   0,   0,   0,   0,   0,   0,   0,   0,   0,   0,\n",
       "          0,   0,   0,   0,   0,   0,   0,   0,   0,   0,   0,   0,   0,   0,\n",
       "          0,   0,   0,   0,   0,   0,   0,   0,   0,   0,   0,   0,   3,  18,\n",
       "         18,  18, 126, 136, 175,  26, 166, 255, 247, 127,   0,   0,   0,   0,\n",
       "          0,   0,   0,   0,   0,   0,   0,   0,  30,  36,  94, 154, 170, 253,\n",
       "        253, 253, 253, 253, 225, 172, 253, 242, 195,  64,   0,   0,   0,   0,\n",
       "          0,   0,   0,   0,   0,   0,   0,  49, 238, 253, 253, 253, 253, 253,\n",
       "        253, 253, 253, 251,  93,  82,  82,  56,  39,   0,   0,   0,   0,   0,\n",
       "          0,   0,   0,   0,   0,   0,   0,  18, 219, 253, 253, 253, 253, 253,\n",
       "        198, 182, 247, 241,   0,   0,   0,   0,   0,   0,   0,   0,   0,   0,\n",
       "          0,   0,   0,   0,   0,   0,   0,   0,  80, 156, 107, 253, 253, 205,\n",
       "         11,   0,  43, 154,   0,   0,   0,   0,   0,   0,   0,   0,   0,   0,\n",
       "          0,   0,   0,   0,   0,   0,   0,   0,   0,  14,   1, 154, 253,  90,\n",
       "          0,   0,   0,   0,   0,   0,   0,   0,   0,   0,   0,   0,   0,   0,\n",
       "          0,   0,   0,   0,   0,   0,   0,   0,   0,   0,   0, 139, 253, 190,\n",
       "          2,   0,   0,   0,   0,   0,   0,   0,   0,   0,   0,   0,   0,   0,\n",
       "          0,   0,   0,   0,   0,   0,   0,   0,   0,   0,   0,  11, 190, 253,\n",
       "         70,   0,   0,   0,   0,   0,   0,   0,   0,   0,   0,   0,   0,   0,\n",
       "          0,   0,   0,   0,   0,   0,   0,   0,   0,   0,   0,   0,  35, 241,\n",
       "        225, 160, 108,   1,   0,   0,   0,   0,   0,   0,   0,   0,   0,   0,\n",
       "          0,   0,   0,   0,   0,   0,   0,   0,   0,   0,   0,   0,   0,  81,\n",
       "        240, 253, 253, 119,  25,   0,   0,   0,   0,   0,   0,   0,   0,   0,\n",
       "          0,   0,   0,   0,   0,   0,   0,   0,   0,   0,   0,   0,   0,   0,\n",
       "         45, 186, 253, 253, 150,  27,   0,   0,   0,   0,   0,   0,   0,   0,\n",
       "          0,   0,   0,   0,   0,   0,   0,   0,   0,   0,   0,   0,   0,   0,\n",
       "          0,  16,  93, 252, 253, 187,   0,   0,   0,   0,   0,   0,   0,   0,\n",
       "          0,   0,   0,   0,   0,   0,   0,   0,   0,   0,   0,   0,   0,   0,\n",
       "          0,   0,   0, 249, 253, 249,  64,   0,   0,   0,   0,   0,   0,   0,\n",
       "          0,   0,   0,   0,   0,   0,   0,   0,   0,   0,   0,   0,   0,   0,\n",
       "         46, 130, 183, 253, 253, 207,   2,   0,   0,   0,   0,   0,   0,   0,\n",
       "          0,   0,   0,   0,   0,   0,   0,   0,   0,   0,   0,   0,  39, 148,\n",
       "        229, 253, 253, 253, 250, 182,   0,   0,   0,   0,   0,   0,   0,   0,\n",
       "          0,   0,   0,   0,   0,   0,   0,   0,   0,   0,  24, 114, 221, 253,\n",
       "        253, 253, 253, 201,  78,   0,   0,   0,   0,   0,   0,   0,   0,   0,\n",
       "          0,   0,   0,   0,   0,   0,   0,   0,  23,  66, 213, 253, 253, 253,\n",
       "        253, 198,  81,   2,   0,   0,   0,   0,   0,   0,   0,   0,   0,   0,\n",
       "          0,   0,   0,   0,   0,   0,  18, 171, 219, 253, 253, 253, 253, 195,\n",
       "         80,   9,   0,   0,   0,   0,   0,   0,   0,   0,   0,   0,   0,   0,\n",
       "          0,   0,   0,   0,  55, 172, 226, 253, 253, 253, 253, 244, 133,  11,\n",
       "          0,   0,   0,   0,   0,   0,   0,   0,   0,   0,   0,   0,   0,   0,\n",
       "          0,   0,   0,   0, 136, 253, 253, 253, 212, 135, 132,  16,   0,   0,\n",
       "          0,   0,   0,   0,   0,   0,   0,   0,   0,   0,   0,   0,   0,   0,\n",
       "          0,   0,   0,   0,   0,   0,   0,   0,   0,   0,   0,   0,   0,   0,\n",
       "          0,   0,   0,   0,   0,   0,   0,   0,   0,   0,   0,   0,   0,   0,\n",
       "          0,   0,   0,   0,   0,   0,   0,   0,   0,   0,   0,   0,   0,   0,\n",
       "          0,   0,   0,   0,   0,   0,   0,   0,   0,   0,   0,   0,   0,   0,\n",
       "          0,   0,   0,   0,   0,   0,   0,   0,   0,   0,   0,   0,   0,   0,\n",
       "          0,   0,   0,   0,   0,   0,   0,   0,   0,   0,   0,   0,   0,   0],\n",
       "       dtype=torch.uint8)"
      ]
     },
     "execution_count": 9,
     "metadata": {},
     "output_type": "execute_result"
    }
   ],
   "source": [
    "# wir verandeln das Bild von 2D zu 1D\n",
    "image = torch.flatten(image)\n",
    "image"
   ]
  },
  {
   "cell_type": "code",
   "execution_count": 10,
   "metadata": {},
   "outputs": [
    {
     "data": {
      "text/plain": [
       "torch.Size([784])"
      ]
     },
     "execution_count": 10,
     "metadata": {},
     "output_type": "execute_result"
    }
   ],
   "source": [
    "image.shape"
   ]
  },
  {
   "cell_type": "markdown",
   "metadata": {},
   "source": [
    "### Normalisierung\n",
    "\n",
    "Neuronale Netzwerke wenden entlang der Schichten Multiplikationen an. \n",
    "Damit wir in einem Wertebereich bleiben der nicht Richtung unendlich explodiert ist es sinnvoll die Werte zwischen 0 und 1 zu beschränken."
   ]
  },
  {
   "cell_type": "code",
   "execution_count": 11,
   "metadata": {},
   "outputs": [],
   "source": [
    "image = image / 255"
   ]
  },
  {
   "cell_type": "markdown",
   "metadata": {},
   "source": [
    "### Alles zusammen"
   ]
  },
  {
   "cell_type": "code",
   "execution_count": 12,
   "metadata": {},
   "outputs": [],
   "source": [
    "# Klasse die die Transformationen durchführt\n",
    "class ApplyTransform:\n",
    "    def __call__(self, img):\n",
    "        # image to tensor\n",
    "        img = torchvision.transforms.functional.pil_to_tensor(img)\n",
    "        # flatten\n",
    "        img = torch.flatten(img)\n",
    "        # normalize\n",
    "        img = img / 255.0\n",
    "\n",
    "        return img         \n",
    "\n",
    "transforms = ApplyTransform()\n",
    "train_dataset = torchvision.datasets.MNIST(root='./data',\n",
    "                                           train=True,\n",
    "                                           transform=transforms, # Datantransformation\n",
    "                                           download=True)\n",
    "\n",
    "test_dataset = torchvision.datasets.MNIST(root='./data',\n",
    "                                          train=False,\n",
    "                                          transform=transforms, # Datentransformation\n",
    "                                          download=True)"
   ]
  },
  {
   "cell_type": "code",
   "execution_count": 13,
   "metadata": {},
   "outputs": [
    {
     "data": {
      "text/plain": [
       "(tensor([0.0000, 0.0000, 0.0000, 0.0000, 0.0000, 0.0000, 0.0000, 0.0000, 0.0000,\n",
       "         0.0000, 0.0000, 0.0000, 0.0000, 0.0000, 0.0000, 0.0000, 0.0000, 0.0000,\n",
       "         0.0000, 0.0000, 0.0000, 0.0000, 0.0000, 0.0000, 0.0000, 0.0000, 0.0000,\n",
       "         0.0000, 0.0000, 0.0000, 0.0000, 0.0000, 0.0000, 0.0000, 0.0000, 0.0000,\n",
       "         0.0000, 0.0000, 0.0000, 0.0000, 0.0000, 0.0000, 0.0000, 0.0000, 0.0000,\n",
       "         0.0000, 0.0000, 0.0000, 0.0000, 0.0000, 0.0000, 0.0000, 0.0000, 0.0000,\n",
       "         0.0000, 0.0000, 0.0000, 0.0000, 0.0000, 0.0000, 0.0000, 0.0000, 0.0000,\n",
       "         0.0000, 0.0000, 0.0000, 0.0000, 0.0000, 0.0000, 0.0000, 0.0000, 0.0000,\n",
       "         0.0000, 0.0000, 0.0000, 0.0000, 0.0000, 0.0000, 0.0000, 0.0000, 0.0000,\n",
       "         0.0000, 0.0000, 0.0000, 0.0000, 0.0000, 0.0000, 0.0000, 0.0000, 0.0000,\n",
       "         0.0000, 0.0000, 0.0000, 0.0000, 0.0000, 0.0000, 0.0000, 0.0000, 0.0000,\n",
       "         0.0000, 0.0000, 0.0000, 0.0000, 0.0000, 0.0000, 0.0000, 0.0000, 0.0000,\n",
       "         0.0000, 0.0000, 0.0000, 0.0000, 0.0000, 0.0000, 0.0000, 0.0000, 0.0000,\n",
       "         0.0000, 0.0000, 0.0000, 0.0000, 0.0000, 0.0000, 0.0000, 0.0000, 0.0000,\n",
       "         0.0000, 0.0000, 0.0000, 0.0000, 0.0000, 0.0000, 0.0000, 0.0000, 0.0000,\n",
       "         0.0000, 0.0000, 0.0000, 0.0000, 0.0000, 0.0000, 0.0000, 0.0000, 0.0000,\n",
       "         0.0000, 0.0000, 0.0000, 0.0000, 0.0000, 0.0000, 0.0000, 0.0000, 0.0118,\n",
       "         0.0706, 0.0706, 0.0706, 0.4941, 0.5333, 0.6863, 0.1020, 0.6510, 1.0000,\n",
       "         0.9686, 0.4980, 0.0000, 0.0000, 0.0000, 0.0000, 0.0000, 0.0000, 0.0000,\n",
       "         0.0000, 0.0000, 0.0000, 0.0000, 0.0000, 0.1176, 0.1412, 0.3686, 0.6039,\n",
       "         0.6667, 0.9922, 0.9922, 0.9922, 0.9922, 0.9922, 0.8824, 0.6745, 0.9922,\n",
       "         0.9490, 0.7647, 0.2510, 0.0000, 0.0000, 0.0000, 0.0000, 0.0000, 0.0000,\n",
       "         0.0000, 0.0000, 0.0000, 0.0000, 0.0000, 0.1922, 0.9333, 0.9922, 0.9922,\n",
       "         0.9922, 0.9922, 0.9922, 0.9922, 0.9922, 0.9922, 0.9843, 0.3647, 0.3216,\n",
       "         0.3216, 0.2196, 0.1529, 0.0000, 0.0000, 0.0000, 0.0000, 0.0000, 0.0000,\n",
       "         0.0000, 0.0000, 0.0000, 0.0000, 0.0000, 0.0000, 0.0706, 0.8588, 0.9922,\n",
       "         0.9922, 0.9922, 0.9922, 0.9922, 0.7765, 0.7137, 0.9686, 0.9451, 0.0000,\n",
       "         0.0000, 0.0000, 0.0000, 0.0000, 0.0000, 0.0000, 0.0000, 0.0000, 0.0000,\n",
       "         0.0000, 0.0000, 0.0000, 0.0000, 0.0000, 0.0000, 0.0000, 0.0000, 0.3137,\n",
       "         0.6118, 0.4196, 0.9922, 0.9922, 0.8039, 0.0431, 0.0000, 0.1686, 0.6039,\n",
       "         0.0000, 0.0000, 0.0000, 0.0000, 0.0000, 0.0000, 0.0000, 0.0000, 0.0000,\n",
       "         0.0000, 0.0000, 0.0000, 0.0000, 0.0000, 0.0000, 0.0000, 0.0000, 0.0000,\n",
       "         0.0000, 0.0549, 0.0039, 0.6039, 0.9922, 0.3529, 0.0000, 0.0000, 0.0000,\n",
       "         0.0000, 0.0000, 0.0000, 0.0000, 0.0000, 0.0000, 0.0000, 0.0000, 0.0000,\n",
       "         0.0000, 0.0000, 0.0000, 0.0000, 0.0000, 0.0000, 0.0000, 0.0000, 0.0000,\n",
       "         0.0000, 0.0000, 0.0000, 0.0000, 0.5451, 0.9922, 0.7451, 0.0078, 0.0000,\n",
       "         0.0000, 0.0000, 0.0000, 0.0000, 0.0000, 0.0000, 0.0000, 0.0000, 0.0000,\n",
       "         0.0000, 0.0000, 0.0000, 0.0000, 0.0000, 0.0000, 0.0000, 0.0000, 0.0000,\n",
       "         0.0000, 0.0000, 0.0000, 0.0000, 0.0000, 0.0431, 0.7451, 0.9922, 0.2745,\n",
       "         0.0000, 0.0000, 0.0000, 0.0000, 0.0000, 0.0000, 0.0000, 0.0000, 0.0000,\n",
       "         0.0000, 0.0000, 0.0000, 0.0000, 0.0000, 0.0000, 0.0000, 0.0000, 0.0000,\n",
       "         0.0000, 0.0000, 0.0000, 0.0000, 0.0000, 0.0000, 0.0000, 0.1373, 0.9451,\n",
       "         0.8824, 0.6275, 0.4235, 0.0039, 0.0000, 0.0000, 0.0000, 0.0000, 0.0000,\n",
       "         0.0000, 0.0000, 0.0000, 0.0000, 0.0000, 0.0000, 0.0000, 0.0000, 0.0000,\n",
       "         0.0000, 0.0000, 0.0000, 0.0000, 0.0000, 0.0000, 0.0000, 0.0000, 0.0000,\n",
       "         0.3176, 0.9412, 0.9922, 0.9922, 0.4667, 0.0980, 0.0000, 0.0000, 0.0000,\n",
       "         0.0000, 0.0000, 0.0000, 0.0000, 0.0000, 0.0000, 0.0000, 0.0000, 0.0000,\n",
       "         0.0000, 0.0000, 0.0000, 0.0000, 0.0000, 0.0000, 0.0000, 0.0000, 0.0000,\n",
       "         0.0000, 0.0000, 0.1765, 0.7294, 0.9922, 0.9922, 0.5882, 0.1059, 0.0000,\n",
       "         0.0000, 0.0000, 0.0000, 0.0000, 0.0000, 0.0000, 0.0000, 0.0000, 0.0000,\n",
       "         0.0000, 0.0000, 0.0000, 0.0000, 0.0000, 0.0000, 0.0000, 0.0000, 0.0000,\n",
       "         0.0000, 0.0000, 0.0000, 0.0000, 0.0627, 0.3647, 0.9882, 0.9922, 0.7333,\n",
       "         0.0000, 0.0000, 0.0000, 0.0000, 0.0000, 0.0000, 0.0000, 0.0000, 0.0000,\n",
       "         0.0000, 0.0000, 0.0000, 0.0000, 0.0000, 0.0000, 0.0000, 0.0000, 0.0000,\n",
       "         0.0000, 0.0000, 0.0000, 0.0000, 0.0000, 0.0000, 0.0000, 0.9765, 0.9922,\n",
       "         0.9765, 0.2510, 0.0000, 0.0000, 0.0000, 0.0000, 0.0000, 0.0000, 0.0000,\n",
       "         0.0000, 0.0000, 0.0000, 0.0000, 0.0000, 0.0000, 0.0000, 0.0000, 0.0000,\n",
       "         0.0000, 0.0000, 0.0000, 0.0000, 0.0000, 0.1804, 0.5098, 0.7176, 0.9922,\n",
       "         0.9922, 0.8118, 0.0078, 0.0000, 0.0000, 0.0000, 0.0000, 0.0000, 0.0000,\n",
       "         0.0000, 0.0000, 0.0000, 0.0000, 0.0000, 0.0000, 0.0000, 0.0000, 0.0000,\n",
       "         0.0000, 0.0000, 0.0000, 0.0000, 0.1529, 0.5804, 0.8980, 0.9922, 0.9922,\n",
       "         0.9922, 0.9804, 0.7137, 0.0000, 0.0000, 0.0000, 0.0000, 0.0000, 0.0000,\n",
       "         0.0000, 0.0000, 0.0000, 0.0000, 0.0000, 0.0000, 0.0000, 0.0000, 0.0000,\n",
       "         0.0000, 0.0000, 0.0000, 0.0941, 0.4471, 0.8667, 0.9922, 0.9922, 0.9922,\n",
       "         0.9922, 0.7882, 0.3059, 0.0000, 0.0000, 0.0000, 0.0000, 0.0000, 0.0000,\n",
       "         0.0000, 0.0000, 0.0000, 0.0000, 0.0000, 0.0000, 0.0000, 0.0000, 0.0000,\n",
       "         0.0000, 0.0000, 0.0902, 0.2588, 0.8353, 0.9922, 0.9922, 0.9922, 0.9922,\n",
       "         0.7765, 0.3176, 0.0078, 0.0000, 0.0000, 0.0000, 0.0000, 0.0000, 0.0000,\n",
       "         0.0000, 0.0000, 0.0000, 0.0000, 0.0000, 0.0000, 0.0000, 0.0000, 0.0000,\n",
       "         0.0000, 0.0706, 0.6706, 0.8588, 0.9922, 0.9922, 0.9922, 0.9922, 0.7647,\n",
       "         0.3137, 0.0353, 0.0000, 0.0000, 0.0000, 0.0000, 0.0000, 0.0000, 0.0000,\n",
       "         0.0000, 0.0000, 0.0000, 0.0000, 0.0000, 0.0000, 0.0000, 0.0000, 0.0000,\n",
       "         0.2157, 0.6745, 0.8863, 0.9922, 0.9922, 0.9922, 0.9922, 0.9569, 0.5216,\n",
       "         0.0431, 0.0000, 0.0000, 0.0000, 0.0000, 0.0000, 0.0000, 0.0000, 0.0000,\n",
       "         0.0000, 0.0000, 0.0000, 0.0000, 0.0000, 0.0000, 0.0000, 0.0000, 0.0000,\n",
       "         0.0000, 0.5333, 0.9922, 0.9922, 0.9922, 0.8314, 0.5294, 0.5176, 0.0627,\n",
       "         0.0000, 0.0000, 0.0000, 0.0000, 0.0000, 0.0000, 0.0000, 0.0000, 0.0000,\n",
       "         0.0000, 0.0000, 0.0000, 0.0000, 0.0000, 0.0000, 0.0000, 0.0000, 0.0000,\n",
       "         0.0000, 0.0000, 0.0000, 0.0000, 0.0000, 0.0000, 0.0000, 0.0000, 0.0000,\n",
       "         0.0000, 0.0000, 0.0000, 0.0000, 0.0000, 0.0000, 0.0000, 0.0000, 0.0000,\n",
       "         0.0000, 0.0000, 0.0000, 0.0000, 0.0000, 0.0000, 0.0000, 0.0000, 0.0000,\n",
       "         0.0000, 0.0000, 0.0000, 0.0000, 0.0000, 0.0000, 0.0000, 0.0000, 0.0000,\n",
       "         0.0000, 0.0000, 0.0000, 0.0000, 0.0000, 0.0000, 0.0000, 0.0000, 0.0000,\n",
       "         0.0000, 0.0000, 0.0000, 0.0000, 0.0000, 0.0000, 0.0000, 0.0000, 0.0000,\n",
       "         0.0000, 0.0000, 0.0000, 0.0000, 0.0000, 0.0000, 0.0000, 0.0000, 0.0000,\n",
       "         0.0000, 0.0000, 0.0000, 0.0000, 0.0000, 0.0000, 0.0000, 0.0000, 0.0000,\n",
       "         0.0000, 0.0000, 0.0000, 0.0000, 0.0000, 0.0000, 0.0000, 0.0000, 0.0000,\n",
       "         0.0000]),\n",
       " 5)"
      ]
     },
     "execution_count": 13,
     "metadata": {},
     "output_type": "execute_result"
    }
   ],
   "source": [
    "train_dataset[0]"
   ]
  },
  {
   "cell_type": "markdown",
   "metadata": {},
   "source": [
    "### Train-Validierungs-Test Split\n",
    "\n",
    "Wie in der vorherigen Einheit erklärt, nehmen wir einen Teil der Trainingsdaten raus um unser Modell während des Trainingsprozesses validieren zu können.\n",
    "\n",
    "Erst wenn wir uns sicher sind, dass das Modell gut ist können wir die Testdaten nutzen."
   ]
  },
  {
   "cell_type": "code",
   "execution_count": 14,
   "metadata": {},
   "outputs": [],
   "source": [
    "\"\"\"\n",
    "TODO: Passe einen Parameter an sodass der Validierungsdatensatz\n",
    "20% der Trainingsdaten beinhaltet\n",
    "\"\"\"\n",
    "\n",
    "train_dataset, val_dataset = train_test_split(\n",
    "    train_dataset, \n",
    "    test_size=0.2, #TODO\n",
    "    random_state=42\n",
    ")"
   ]
  },
  {
   "cell_type": "code",
   "execution_count": 15,
   "metadata": {},
   "outputs": [
    {
     "data": {
      "text/plain": [
       "48000"
      ]
     },
     "execution_count": 15,
     "metadata": {},
     "output_type": "execute_result"
    }
   ],
   "source": [
    "len(train_dataset)"
   ]
  },
  {
   "cell_type": "markdown",
   "metadata": {},
   "source": [
    "### Laden der Daten\n",
    "\n",
    "Da wir mehrere tausend Bilder haben und diese nicht auf ein mal in den Speicher und erst recht nicht in die Grafikkarte geladen bekommen, müssen wir kleinere Subdatensätze laden (sogenannte Batches).\n",
    "\n",
    "Zum Glück gibts dafür natürlich eine Funktion :-) \n",
    "\n",
    "Die `batch_size` gibt dabei an wie viele Bilder zeitgleich geladen werden."
   ]
  },
  {
   "cell_type": "code",
   "execution_count": 16,
   "metadata": {},
   "outputs": [],
   "source": [
    "# lade 64 Bilder auf ein mal\n",
    "batch_size = 64\n",
    "\n",
    "# train loader ist randomisiert (shuffle = True), damit die Daten jedes mal in einer anderen Reihenfolge kommen\n",
    "train_loader = torch.utils.data.DataLoader(dataset=train_dataset, batch_size=batch_size, shuffle=True)\n",
    "\n",
    "# für Validierungs und Testdaten benötigen wir das aber nicht\n",
    "val_loader = torch.utils.data.DataLoader(dataset=val_dataset, batch_size=batch_size, shuffle=False)\n",
    "test_loader = torch.utils.data.DataLoader(dataset=test_dataset, batch_size=batch_size, shuffle=False)\n"
   ]
  },
  {
   "cell_type": "markdown",
   "metadata": {},
   "source": [
    "### Definition des Netzwerkes\n",
    "\n",
    "Das Netzwerk zu definieren ist recht simpel und funktioniert mit folgender Syntax:\n",
    "\n",
    "```python\n",
    "model = nn.Sequential(\n",
    "    nn.Linear(number_input_features, number_output_features),\n",
    "    nn.ReLU(),      # Aktivierungsfunktion - ReLU setzt alle negativen Werte auf null\n",
    "    nn.Linear(...),\n",
    "    nn.ReLU(),\n",
    "    ...\n",
    "    nn.ReLU(),\n",
    "    nn.Linear(...)\n",
    ")\n",
    "```\n",
    "\n",
    "Paar Sachen die es zu beachten gibt:\n",
    "- Die erste Schicht sollte 784 Eingabewerte erhalten (größe unserer Bilder)\n",
    "- Letzte Schicht sollte 10 Ausgabewerte haben\n",
    "- Zwischen jeder Schicht sollte eine Aktivierungsfunktion stehen\n",
    "- Anzahl der Ausgabewerte der aktuellen Schicht muss mit Anzahl der Eingabewerte der folgenden übereinstimmen"
   ]
  },
  {
   "cell_type": "code",
   "execution_count": 17,
   "metadata": {},
   "outputs": [
    {
     "name": "stdout",
     "output_type": "stream",
     "text": [
      "Number of parameters: 694110\n"
     ]
    }
   ],
   "source": [
    "model = nn.Sequential(\n",
    "        # TODO: definiere dein Netzwerk\n",
    "        nn.Linear(784, 500),\n",
    "        nn.ReLU(),\n",
    "        nn.Linear(500, 500),\n",
    "        nn.ReLU(),\n",
    "        nn.Linear(500,100),\n",
    "        nn.ReLU(),\n",
    "        nn.Linear(100,10)\n",
    "    )\n",
    "# schiebe das Netzwerk auf die Grafikkarte\n",
    "model.to(device)\n",
    "\n",
    "# Berechne Anzahl der Parameter\n",
    "print(\"Number of parameters:\", sum(p.numel() for p in model.parameters() if p.requires_grad))"
   ]
  },
  {
   "cell_type": "markdown",
   "metadata": {},
   "source": [
    "### Optimierung von Parametern\n",
    "\n",
    "Bevor wir versuchen zu verstehen wie Neuronale Netzwerke sich optimieren lass uns versuchen geeignete Parameter für eine einfache lineare Funktion für folgende Daten zu finden:\n",
    "\n",
    "Wir haben eine Verlustfunktion (Loss), welche uns einen Fehlermaß angibt.\n",
    "\n",
    "Versuche hier den Anstieg und Achsenschnittpunkt so zu wählen dass der Fehler minimal wird."
   ]
  },
  {
   "cell_type": "code",
   "execution_count": 18,
   "metadata": {},
   "outputs": [
    {
     "data": {
      "image/png": "[encoded data removed]",
      "text/plain": [
       "<Figure size 640x480 with 1 Axes>"
      ]
     },
     "metadata": {},
     "output_type": "display_data"
    },
    {
     "name": "stdout",
     "output_type": "stream",
     "text": [
      "Loss: 475.5\n"
     ]
    }
   ],
   "source": [
    "import numpy as np\n",
    "from numpy.polynomial.polynomial import polyfit\n",
    "import matplotlib.pyplot as plt\n",
    "\n",
    "m = -2  # -2 am Anfang, ändere mich \n",
    "b = 40  # 40 am Anfang, ändere mich\n",
    "\n",
    "# Sample data\n",
    "x = np.array([ 0,  1,  2,  3,  4,  5,  6,  7,  8,  9])\n",
    "y = np.array([10, 20, 25, 30, 40, 45, 40, 50, 60, 55])\n",
    "y_hat = x * m + b\n",
    "\n",
    "plt.plot(x, y, '.')\n",
    "plt.plot(x, y_hat, '-')\n",
    "plt.show()\n",
    "\n",
    "print(\"Loss:\", np.sum((y - y_hat)**2)/len(x))"
   ]
  },
  {
   "cell_type": "markdown",
   "metadata": {},
   "source": [
    "### Optimierung: Gradient Descent\n",
    "\n",
    "Neuronale Netzwerke werden mit einer Menge Mathe-Magie optimiert.\n",
    "- Wir haben eine Funktion die uns den Fehler angibt \n",
    "- Mittels Ableitungen können wir herausfinden in welche Richtung wir das Modell optimieren müssen um den Fehler zu minimieren\n",
    "\n",
    "- Man kann es sich vorstellen als würde man auf einem Hügel stehen\n",
    "- Mit dem Fuß ertastet man die steilste Richtung nach unten\n",
    "- Und macht einen kleinen Schritt in dessen Richtung (`learning_rate` bestimmt die Schrittgröße)\n",
    "    - Ist sie zu klein dauert es lange das Modell zu trainieren\n",
    "    - Ist sie zu groß explodiert aber der Gradient! \n",
    "        - Wenn wir nach dem Schritt weiter vom Minimum weg sind als zuvor machen wir im Anschluss einen noch größeren Schritt\n",
    "        - Das schaukelt sich sehr schnell richtung unendlich hoch\n",
    "\n",
    "![](_img/04_gradient_descent.jpg)"
   ]
  },
  {
   "cell_type": "code",
   "execution_count": 19,
   "metadata": {},
   "outputs": [],
   "source": [
    "# Schrittgröße\n",
    "learning_rate = 0.0001\n",
    "# Fehlerfunktion\n",
    "criterion = nn.CrossEntropyLoss()\n",
    "# Optimierungsalgorithmus \n",
    "optimizer = torch.optim.Adam(model.parameters(), lr=learning_rate)"
   ]
  },
  {
   "cell_type": "markdown",
   "metadata": {},
   "source": [
    "### Trainingspipeline\n",
    "\n",
    "Im Training verbinden wir jetzt alles zusammen.\n",
    "\n",
    "- Wir laden nacheinander Daten\n",
    "- Lassen unser Modell eine Vorhersage treffen\n",
    "- Berechnen die Verlustfunktion\n",
    "- Berechnen in welche Richtung wir die Parameter anpassen müssen damit wir besser werden\n",
    "- Und aktualisieren die Parameter"
   ]
  },
  {
   "cell_type": "code",
   "execution_count": 20,
   "metadata": {},
   "outputs": [],
   "source": [
    "def train(model,train_loader,optimizer):\n",
    "    correct = 0\n",
    "    total = 0\n",
    "    for i, (images, labels) in enumerate(train_loader):\n",
    "        # schiebe einagbe und lösung auf GPU\n",
    "        images = images.to(device)\n",
    "        labels = labels.to(device)\n",
    "\n",
    "        # vorhersage treffen\n",
    "        outputs = model(images)\n",
    "        # berechne den Fehler\n",
    "        loss = criterion(outputs, labels)\n",
    "        # setze die Gradienten zurück (Ableitung)\n",
    "        optimizer.zero_grad()\n",
    "        # Berechne die Ableitung\n",
    "        loss.backward()\n",
    "        # Aktualisiere die Parameter\n",
    "        optimizer.step()\n",
    "\n",
    "        # Hier wird die Genauigkeit ermittelt\n",
    "        # Finde heraus was die wahrscheinlichste Klasse war laut Modell\n",
    "        _, predicted = torch.max(outputs.data, 1)\n",
    "        total += labels.size(0)\n",
    "        # berechne wie viele im aktuellen Batch korrekt waren\n",
    "        correct += (predicted == labels).sum().item()\n",
    "\n",
    "    accuracy = (100 * correct / total)\n",
    "\n",
    "    return loss.item(), accuracy"
   ]
  },
  {
   "cell_type": "code",
   "execution_count": 21,
   "metadata": {},
   "outputs": [],
   "source": [
    "# Berechne Genauigkeit für Validierungssatz\n",
    "def validate(model, val_loader, return_confusion_matrix = False):\n",
    "  # schalte Gradientenberechnung aus\n",
    "  with torch.no_grad():\n",
    "      correct = 0\n",
    "      total = 0\n",
    "      if return_confusion_matrix:\n",
    "         all_labels = []\n",
    "         all_preds = []\n",
    "      for images, labels in val_loader:\n",
    "          images = images.to(device)\n",
    "          labels = labels.to(device)\n",
    "\n",
    "          # Forward pass\n",
    "          outputs = model(images)\n",
    "          loss = criterion(outputs, labels)\n",
    "          _, predicted = torch.max(outputs.data, 1)\n",
    "          total += labels.size(0)\n",
    "          correct += (predicted == labels).sum().item()\n",
    "\n",
    "          if return_confusion_matrix:\n",
    "             all_labels.extend(labels.cpu().numpy())\n",
    "             all_preds.extend(predicted.cpu().numpy())\n",
    "            \n",
    "      accuracy = (100 * correct / total)\n",
    "\n",
    "      if return_confusion_matrix:\n",
    "         cm = confusion_matrix(all_labels, all_preds)\n",
    "         return loss.item(), accuracy, cm\n",
    "      \n",
    "  return loss.item(),accuracy"
   ]
  },
  {
   "cell_type": "markdown",
   "metadata": {},
   "source": [
    "### Alles zusammen\n",
    "\n",
    "- Wir werden jetzt abwechseln trainieren und validieren\n",
    "- Dabei das beste Modell auf den Validierungsdaten speichern\n",
    "- Wir speichern zudem den Verlauf der Genauigkeit und des Fehlers für Training und Validierungsdaten\n",
    "\n",
    "---\n",
    "- Neue Variable: **Epoche**\n",
    "- **Epoche** bezeichnet einen kompletten Durchlauf durch alle Trainingsdaten\n",
    "- Erinnerung: wir schauen uns immer auf ein mal 64 von unseren knapp 40.000 Trainingsdaten an\n",
    "- Die Epoche ist vorbei sobald alle 40.000 Trainingspunkte ein mal gesehen wurden"
   ]
  },
  {
   "cell_type": "code",
   "execution_count": 22,
   "metadata": {},
   "outputs": [
    {
     "name": "stdout",
     "output_type": "stream",
     "text": [
      "Epoch [1/25], train Loss: 0.3217, train acc: 83.0187, val Loss: 0.1698 , val acc: 91.4833\n",
      "Epoch [2/25], train Loss: 0.1720, train acc: 92.5250, val Loss: 0.1363 , val acc: 93.7250\n",
      "Epoch [3/25], train Loss: 0.1668, train acc: 94.3250, val Loss: 0.1068 , val acc: 94.9333\n",
      "Epoch [4/25], train Loss: 0.1310, train acc: 95.3458, val Loss: 0.0845 , val acc: 95.4750\n",
      "Epoch [5/25], train Loss: 0.0891, train acc: 96.1937, val Loss: 0.0833 , val acc: 95.9417\n",
      "Epoch [6/25], train Loss: 0.1545, train acc: 96.7750, val Loss: 0.0946 , val acc: 96.4417\n",
      "Epoch [7/25], train Loss: 0.0661, train acc: 97.2708, val Loss: 0.0779 , val acc: 96.8000\n",
      "Epoch [8/25], train Loss: 0.0853, train acc: 97.6604, val Loss: 0.0510 , val acc: 97.1583\n",
      "Epoch [9/25], train Loss: 0.0608, train acc: 98.0167, val Loss: 0.0449 , val acc: 97.0250\n",
      "Epoch [10/25], train Loss: 0.0172, train acc: 98.2188, val Loss: 0.0402 , val acc: 97.4167\n",
      "Epoch [11/25], train Loss: 0.0480, train acc: 98.5229, val Loss: 0.0431 , val acc: 97.5833\n",
      "Epoch [12/25], train Loss: 0.0508, train acc: 98.7292, val Loss: 0.0456 , val acc: 97.6333\n",
      "Epoch [13/25], train Loss: 0.0062, train acc: 98.9750, val Loss: 0.0441 , val acc: 97.6583\n",
      "Epoch [14/25], train Loss: 0.0686, train acc: 99.1583, val Loss: 0.0952 , val acc: 97.5917\n",
      "Epoch [15/25], train Loss: 0.0291, train acc: 99.2917, val Loss: 0.0648 , val acc: 97.8167\n",
      "Epoch [16/25], train Loss: 0.0113, train acc: 99.3729, val Loss: 0.0350 , val acc: 97.8167\n",
      "Epoch [17/25], train Loss: 0.0389, train acc: 99.5042, val Loss: 0.0145 , val acc: 98.0083\n",
      "Epoch [18/25], train Loss: 0.0123, train acc: 99.6292, val Loss: 0.0941 , val acc: 97.9250\n",
      "Epoch [19/25], train Loss: 0.0013, train acc: 99.7021, val Loss: 0.0158 , val acc: 97.8583\n",
      "Epoch [20/25], train Loss: 0.0053, train acc: 99.7250, val Loss: 0.0288 , val acc: 97.8333\n",
      "Epoch [21/25], train Loss: 0.0080, train acc: 99.8083, val Loss: 0.0449 , val acc: 97.8917\n",
      "Epoch [22/25], train Loss: 0.0072, train acc: 99.8417, val Loss: 0.0064 , val acc: 97.8667\n",
      "Epoch [23/25], train Loss: 0.0034, train acc: 99.8417, val Loss: 0.0059 , val acc: 98.1750\n",
      "Epoch [24/25], train Loss: 0.0030, train acc: 99.8854, val Loss: 0.0045 , val acc: 98.0250\n",
      "Epoch [25/25], train Loss: 0.0009, train acc: 99.9500, val Loss: 0.0087 , val acc: 98.0500\n"
     ]
    }
   ],
   "source": [
    "# Wie oft wir den kompletten Traingsdatensatz durchlaufen wollen\n",
    "num_epochs = 25\n",
    "\n",
    "# Listen zum Speichern der Genauigkeits und Fehlerverläufe \n",
    "T_loss= []\n",
    "v_loss =[]\n",
    "T_acc = []\n",
    "v_acc = []\n",
    "\n",
    "# zum Erkennen der besten Epoche: \n",
    "# setze den besten Validierungsfehler auf unendlich\n",
    "best_val_loss = np.inf\n",
    "best_model = model \n",
    "\n",
    "# Trainings-Schleife\n",
    "for epoch in range(num_epochs):\n",
    "\n",
    "  # Trainiere das Modell und lass Fehler und Genauigkeit ausgeben\n",
    "  train_loss, train_acc = train(model, train_loader, optimizer)\n",
    "  # Berechne Fehler und Genauigkeit auf Validierungsdaten\n",
    "  val_loss, val_acc = validate(model, val_loader)\n",
    "\n",
    "  # Schreibe aktuellen Stand\n",
    "  print (f'Epoch [{epoch+1}/{num_epochs}], train Loss: {train_loss:.4f}, train acc: {train_acc:.4f}, val Loss: {val_loss:.4f} , val acc: {val_acc:.4f}')\n",
    "  \n",
    "  # speichere die Werte ab\n",
    "  T_loss.append(train_loss)\n",
    "  v_loss.append(val_loss)\n",
    "  T_acc.append(train_acc)\n",
    "  v_acc.append(val_acc)\n",
    "\n",
    "  # Check ob Modell sich verbessert hat\n",
    "  if val_loss < best_val_loss:\n",
    "    # wenn verbessert: speichere das beste Modell\n",
    "    best_model = model"
   ]
  },
  {
   "cell_type": "markdown",
   "metadata": {},
   "source": [
    "### Plotten des Verlaufs"
   ]
  },
  {
   "cell_type": "code",
   "execution_count": 23,
   "metadata": {},
   "outputs": [
    {
     "data": {
      "image/png": "[encoded data removed]",
      "text/plain": [
       "<Figure size 1600x800 with 2 Axes>"
      ]
     },
     "metadata": {},
     "output_type": "display_data"
    }
   ],
   "source": [
    "epochs = [i for i in range(len(T_loss))]\n",
    "\n",
    "fig, ax = plt.subplots(ncols = 2, figsize=(16,8))\n",
    "\n",
    "# Zeichne Verlust von Training und Validierung\n",
    "ax[0].plot(epochs, T_loss, label='Train loss')\n",
    "ax[0].plot(epochs, v_loss, label='Validation loss')\n",
    "ax[0].set_title('Loss plot')\n",
    "\n",
    "# Zeichne Genauigkeit auf zweitem Bild\n",
    "ax[1].plot(epochs, T_acc, label='Train Accuracy')\n",
    "ax[1].plot(epochs, v_acc, label='Validation Accuracy')\n",
    "ax[1].set_title('Accuracy Plot')\n",
    "\n",
    "# Beschriftung\n",
    "for _ax in ax:\n",
    "    _ax.set_xlabel('Epoch')\n",
    "    _ax.set_ylabel('Loss')\n",
    "    _ax.legend()\n",
    "    _ax.grid()"
   ]
  },
  {
   "cell_type": "markdown",
   "metadata": {},
   "source": [
    "# Plotten der Vorhersagen"
   ]
  },
  {
   "cell_type": "code",
   "execution_count": 24,
   "metadata": {},
   "outputs": [],
   "source": [
    "def show_predictions(data_loader, model=best_model, num_samples=10):\n",
    "    data_iter = iter(data_loader)\n",
    "    images, labels = next(data_iter)\n",
    "    _, preds = torch.max(model(images.to(device)), 1)\n",
    "    fig, axes = plt.subplots(1, num_samples, figsize=(15, 3))\n",
    "\n",
    "    for i in range(num_samples):\n",
    "        ax = axes[i]\n",
    "        ax.imshow(images[i].cpu().numpy().squeeze().reshape(28,28), cmap='gray')\n",
    "        ax.set_title(f\"label: {labels[i]}\\npred: {preds[i].cpu()}\")\n",
    "        ax.axis('off')\n",
    "\n",
    "    plt.show()"
   ]
  },
  {
   "cell_type": "code",
   "execution_count": 25,
   "metadata": {},
   "outputs": [
    {
     "data": {
      "image/png": "[encoded data removed]",
      "text/plain": [
       "<Figure size 1500x300 with 10 Axes>"
      ]
     },
     "metadata": {},
     "output_type": "display_data"
    }
   ],
   "source": [
    "show_predictions(train_loader)"
   ]
  },
  {
   "cell_type": "markdown",
   "metadata": {},
   "source": [
    "Zum Schluss dürften wir jetzt auch den Testdatensatz evaluieren :-) "
   ]
  },
  {
   "cell_type": "code",
   "execution_count": 26,
   "metadata": {},
   "outputs": [],
   "source": [
    "loss, acc, confusion_matrix = validate(best_model, test_loader, return_confusion_matrix = True)"
   ]
  },
  {
   "cell_type": "code",
   "execution_count": 28,
   "metadata": {},
   "outputs": [
    {
     "data": {
      "text/plain": [
       "<sklearn.metrics._plot.confusion_matrix.ConfusionMatrixDisplay at 0x137856210>"
      ]
     },
     "execution_count": 28,
     "metadata": {},
     "output_type": "execute_result"
    },
    {
     "data": {
      "image/png": "[encoded data removed]",
      "text/plain": [
       "<Figure size 640x480 with 2 Axes>"
      ]
     },
     "metadata": {},
     "output_type": "display_data"
    }
   ],
   "source": [
    "ConfusionMatrixDisplay(confusion_matrix).plot()"
   ]
  },
  {
   "cell_type": "markdown",
   "metadata": {},
   "source": [
    "# Glückwunsch! \n",
    "\n",
    "Du hast gerade dein erstes Neuronales Netzwerk trainiert und es ist nahezu perfekt im erkennen handgeschriebener Ziffern! "
   ]
  },
  {
   "cell_type": "markdown",
   "metadata": {},
   "source": [
    "# Linksammlung\n",
    "\n",
    "Klick auf einen der Links um in die jeweiligen Notebooks zu wechseln\n",
    "\n",
    "1. [Basics Notebook](https://colab.research.google.com/github/aleks-krasowski/femtec_ml_workshop/blob/main/notebooks/01_basics.ipynb)\n",
    "2. [EDA Notebook](https://colab.research.google.com/github/aleks-krasowski/femtec_ml_workshop/blob/main/notebooks/02_exploratory_data_analysis.ipynb)\n",
    "3. [ML Notebook](https://colab.research.google.com/github/aleks-krasowski/femtec_ml_workshop/blob/main/notebooks/03_conventional_ml.ipynb)\n",
    "4. [DL Notebook](https://colab.research.google.com/github/aleks-krasowski/femtec_ml_workshop/blob/main/notebooks/04_deep_learning.ipynb)"
   ]
  }
 ],
 "metadata": {
  "kernelspec": {
   "display_name": "Python 3 (ipykernel)",
   "language": "python",
   "name": "python3"
  },
  "language_info": {
   "codemirror_mode": {
    "name": "ipython",
    "version": 3
   },
   "file_extension": ".py",
   "mimetype": "text/x-python",
   "name": "python",
   "nbconvert_exporter": "python",
   "pygments_lexer": "ipython3",
   "version": "3.12.3"
  }
 },
 "nbformat": 4,
 "nbformat_minor": 4
}
